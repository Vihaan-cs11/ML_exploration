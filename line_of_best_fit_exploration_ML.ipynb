{
 "cells": [
  {
   "cell_type": "markdown",
   "metadata": {},
   "source": [
    "Preface:\n",
    "Throughout my schooling years, I've always been fascinated by the way data can narrate a compelling story. In my middle school lessons, we were taught to generalise a linear relationship with data with formula y=mx+b, where m denotes the slope and b the y-intercept. To find the parameters to this formila ypically involved selecting two points, often the first and last data points given, to calculate the slope and y-intercept. However, I've often pondered the accuracy of this approach and sought out alternative methods.\n",
    "\n",
    "After conducting thorough research, I came across the idea of delving into the fundamentals of linear algebra, particularly utilizing matrices and single value decomposition (SVD), as a promising avenue to achieve a more precise estimation of these parameters. Additionally, I became fascinated by the potential of employing machine learning techniques, specifically supervised learning, to develop and refine a model that closely aligns with the observed data points. This exploration aims to delve into these concepts, elucidating their underlying principles, and showcasing the efficacy of supervised machine learning in identifying an optimal model."
   ]
  },
  {
   "cell_type": "markdown",
   "metadata": {},
   "source": [
    "Methodology:\n",
    "The data that will be used is developed randomly by the PyTorch library, where a tensor with 50 x values is created. Using the torch.normal method, 50 corresponding y-values will be created with input parameters m = 5, and b = 10 with standard deviation of 0.2 at random (The parameters have been chosen at random). With our values set, linear algebra concepts will be employed to determine the most accurate estimators for our parameters m and b. Furthermore a 4-step machine learning process is employed to find estimates for our parameters."
   ]
  },
  {
   "cell_type": "code",
   "execution_count": 143,
   "metadata": {},
   "outputs": [
    {
     "name": "stdout",
     "output_type": "stream",
     "text": [
      "[[ 81.997086 ]\n",
      " [ 19.035685 ]\n",
      " [ 15.662348 ]\n",
      " [-50.325977 ]\n",
      " [ 19.342518 ]\n",
      " [-59.507706 ]\n",
      " [-42.676235 ]\n",
      " [ 88.747574 ]\n",
      " [ 88.63481  ]\n",
      " [  6.011927 ]\n",
      " [-81.7428   ]\n",
      " [-25.61282  ]\n",
      " [-11.746967 ]\n",
      " [  4.7865987]\n",
      " [ 63.83966  ]\n",
      " [ 67.27413  ]\n",
      " [-90.44524  ]\n",
      " [ 86.5177   ]\n",
      " [ 48.276554 ]\n",
      " [-81.22361  ]\n",
      " [ 79.08365  ]\n",
      " [ 76.773476 ]\n",
      " [-22.120428 ]\n",
      " [ 94.05045  ]\n",
      " [-82.35158  ]\n",
      " [-68.04193  ]\n",
      " [-90.8119   ]\n",
      " [ 55.689846 ]\n",
      " [-35.73278  ]\n",
      " [ 70.09648  ]\n",
      " [-44.553387 ]\n",
      " [-36.30136  ]\n",
      " [-57.069935 ]\n",
      " [-54.055153 ]\n",
      " [-49.289368 ]\n",
      " [ 59.981762 ]\n",
      " [ -5.7097673]\n",
      " [-22.164202 ]\n",
      " [ 34.117043 ]\n",
      " [ 12.444139 ]\n",
      " [ 10.078585 ]\n",
      " [ 77.609276 ]\n",
      " [ 63.348736 ]\n",
      " [ 74.91673  ]\n",
      " [-35.831295 ]\n",
      " [-86.47671  ]\n",
      " [-78.592834 ]\n",
      " [ -4.254329 ]\n",
      " [ 60.184704 ]\n",
      " [-48.71631  ]]\n",
      "[[ 391.36575 ]\n",
      " [  75.74141 ]\n",
      " [  33.22391 ]\n",
      " [-267.50378 ]\n",
      " [ 130.66022 ]\n",
      " [-280.83762 ]\n",
      " [-225.25766 ]\n",
      " [ 422.2279  ]\n",
      " [ 534.26044 ]\n",
      " [  55.876575]\n",
      " [-345.12015 ]\n",
      " [ -38.919106]\n",
      " [ -41.088505]\n",
      " [  44.139427]\n",
      " [ 342.53445 ]\n",
      " [ 383.7994  ]\n",
      " [-456.67972 ]\n",
      " [ 434.8607  ]\n",
      " [ 227.62054 ]\n",
      " [-389.50516 ]\n",
      " [ 430.2109  ]\n",
      " [ 410.0744  ]\n",
      " [-101.45866 ]\n",
      " [ 487.3174  ]\n",
      " [-375.75015 ]\n",
      " [-315.11475 ]\n",
      " [-461.5017  ]\n",
      " [ 269.23795 ]\n",
      " [-102.09781 ]\n",
      " [ 416.1417  ]\n",
      " [-187.07515 ]\n",
      " [-156.67328 ]\n",
      " [-272.1359  ]\n",
      " [-243.9815  ]\n",
      " [-278.57852 ]\n",
      " [ 264.38098 ]\n",
      " [ -23.744427]\n",
      " [ -97.223434]\n",
      " [ 180.50847 ]\n",
      " [  98.4268  ]\n",
      " [ 107.652664]\n",
      " [ 409.95798 ]\n",
      " [ 301.02045 ]\n",
      " [ 370.5963  ]\n",
      " [-188.07178 ]\n",
      " [-427.5124  ]\n",
      " [-386.7079  ]\n",
      " [ -45.443306]\n",
      " [ 311.50684 ]\n",
      " [-236.34927 ]]\n"
     ]
    }
   ],
   "source": [
    "import torch\n",
    "import numpy as np\n",
    "import matplotlib.pyplot as plt\n",
    "#we will create a random tensor to be the x values of the dataset of 50 values \n",
    "random_x_tensor = torch.FloatTensor(1, 50).uniform_(-1, 1) * 100\n",
    "#save the random tensor we have created in a new tensor called x_tensor\n",
    "x_tensor = random_x_tensor\n",
    "x_array = x_tensor.numpy()\n",
    "\n",
    "#create the y_tensor\n",
    "y_tensor = 5*x_tensor + 10 + torch.normal(mean=torch.zeros(50), std=30)\n",
    "y_array = y_tensor.numpy()\n",
    "\n",
    "x_array = x_array.transpose()\n",
    "y_array = y_array.transpose()\n",
    "print(x_array)\n",
    "print(y_array)"
   ]
  },
  {
   "cell_type": "code",
   "execution_count": 144,
   "metadata": {},
   "outputs": [
    {
     "data": {
      "text/plain": [
       "<matplotlib.collections.PathCollection at 0x108974510>"
      ]
     },
     "execution_count": 144,
     "metadata": {},
     "output_type": "execute_result"
    },
    {
     "data": {
      "image/png": "[encoded data removed]",
      "text/plain": [
       "<Figure size 640x480 with 1 Axes>"
      ]
     },
     "metadata": {},
     "output_type": "display_data"
    }
   ],
   "source": [
    "#Plot the relationship betweeen x and y for a visual representation\n",
    "fig, ax = plt.subplots()\n",
    "plt.title(\"random data set of 50 values, with variation of st_dev = 30\")\n",
    "plt.xlabel(\"x\")\n",
    "plt.ylabel(\"y\")\n",
    "ax.scatter(x_tensor, y_tensor)"
   ]
  },
  {
   "cell_type": "markdown",
   "metadata": {},
   "source": [
    "Linear Algebra:\n",
    "Using linear algebra to find the most accurate predictors for our parameters m,b will use the concept of singular value decomposition.\n",
    "This concept builds upon 2 foundational ideas in linear algebra which is matrix algebra and decomposition. \n",
    "The way the matrices can be set-up will be expressed as y = xp, where y is the output matrix, x is the input matrix and p is the matrix for parameters. we need to solve for p.\n",
    "\n",
    "<img src = \"matrix.png\" width=\"150\">\n",
    "\n",
    "Using the inverse of matrix x has allowed us to isolate the matrix p with our parameters.\n",
    "Therefore, to find the values of m and b which reside in matrix p, we need to multiply the inverse of x with y. Below, is an example of the matrices are setup in the system"
   ]
  },
  {
   "cell_type": "markdown",
   "metadata": {},
   "source": [
    "Here is an example with values to present the relationship between the matrices.\n",
    "\n",
    "<img src = \"1initial.png\" width=\"205\">\n",
    "\n",
    "The first column of x is multiplied with m, and the second column is multiplied by b. For example, the first row multiplication produces 2 = 43m + b, hence showing the matrix multiplication system produces the correct system to find m and b. \n",
    "\n",
    "Here is now the inverse multiplication of x with y to isolate the parameter matrix p.\n",
    "\n",
    "<img src = \"1inverse.png\" width=\"205\">\n",
    "\n",
    "\n",
    "\n"
   ]
  },
  {
   "cell_type": "markdown",
   "metadata": {},
   "source": [
    "To compute the inverse of matrix x, we are unable to employ the concept of eigendecomposition as that concept can only be applied to square matrices. However, the solution to this barrier is the Moore-Penrose Pseuodoinverse. The following notation will walk through the pseudoinverse. \n",
    "\n",
    "<img src = \"pseudo.png\" width=\"500\">\n",
    "\n",
    "Before we get into calculating the pseudoinverse, lets spend some time grasping the concept of Singular Value Decomposition (SVD) and what it does. As the pseudoinverse is calculated, it uses components of the SVD of the matrix X.\n",
    "\n",
    "In essence, SVD provides a way to decompose a matrix into simpler components, which facilitates the calculation of the pseudoinverse. The steps to caluclate the pseudoinverse are:\n",
    "- Decompose the matrix into its SVD: U, V, D\n",
    "- Construct the Moore-Penrose Pseudoinverse by finding V^+ and D transposed\n",
    "\n",
    "SVD is similar to Eigendecomposition in the manner in which it takes a large matrix and breaks it down into 3 smaller matrices, U, V, D.\n",
    "In essence it breaks the matrices into:\n",
    "- Important Directions (Singular Vectors): It identifies the directions in which the most important information in the matrix is concentrated. \n",
    "- Importance of Directions (Singular Values): It determines how important each of these directions is. This importance is quantified by singular values.\n",
    "\n",
    "\n",
    "- U and V are the singular vectors which are orthornmal matrices which contain vectors which are linearly independent to each other. \n",
    "\n",
    "\n"
   ]
  },
  {
   "cell_type": "code",
   "execution_count": 145,
   "metadata": {},
   "outputs": [
    {
     "name": "stdout",
     "output_type": "stream",
     "text": [
      "[[ 81.997086    1.       ]\n",
      " [ 19.035685    1.       ]\n",
      " [ 15.662348    1.       ]\n",
      " [-50.325977    1.       ]\n",
      " [ 19.342518    1.       ]\n",
      " [-59.507706    1.       ]\n",
      " [-42.676235    1.       ]\n",
      " [ 88.747574    1.       ]\n",
      " [ 88.63481     1.       ]\n",
      " [  6.011927    1.       ]\n",
      " [-81.7428      1.       ]\n",
      " [-25.61282     1.       ]\n",
      " [-11.746967    1.       ]\n",
      " [  4.7865987   1.       ]\n",
      " [ 63.83966     1.       ]\n",
      " [ 67.27413     1.       ]\n",
      " [-90.44524     1.       ]\n",
      " [ 86.5177      1.       ]\n",
      " [ 48.276554    1.       ]\n",
      " [-81.22361     1.       ]\n",
      " [ 79.08365     1.       ]\n",
      " [ 76.773476    1.       ]\n",
      " [-22.120428    1.       ]\n",
      " [ 94.05045     1.       ]\n",
      " [-82.35158     1.       ]\n",
      " [-68.04193     1.       ]\n",
      " [-90.8119      1.       ]\n",
      " [ 55.689846    1.       ]\n",
      " [-35.73278     1.       ]\n",
      " [ 70.09648     1.       ]\n",
      " [-44.553387    1.       ]\n",
      " [-36.30136     1.       ]\n",
      " [-57.069935    1.       ]\n",
      " [-54.055153    1.       ]\n",
      " [-49.289368    1.       ]\n",
      " [ 59.981762    1.       ]\n",
      " [ -5.7097673   1.       ]\n",
      " [-22.164202    1.       ]\n",
      " [ 34.117043    1.       ]\n",
      " [ 12.444139    1.       ]\n",
      " [ 10.078585    1.       ]\n",
      " [ 77.609276    1.       ]\n",
      " [ 63.348736    1.       ]\n",
      " [ 74.91673     1.       ]\n",
      " [-35.831295    1.       ]\n",
      " [-86.47671     1.       ]\n",
      " [-78.592834    1.       ]\n",
      " [ -4.254329    1.       ]\n",
      " [ 60.184704    1.       ]\n",
      " [-48.71631     1.       ]]\n",
      "[[-0.19514927 -0.13536811 -0.04807599 ... -0.00121956 -0.1528203\n",
      "   0.10338271]\n",
      " [-0.04530501 -0.1400695  -0.13792206 ... -0.14300154 -0.12656721\n",
      "  -0.15434098]\n",
      " [-0.03727668 -0.14032139  0.98217976 ... -0.01718097 -0.01924934\n",
      "  -0.01575382]\n",
      " ...\n",
      " [ 0.01012379 -0.14180858 -0.01673564 ...  0.98200387 -0.01391791\n",
      "  -0.02081003]\n",
      " [-0.14323714 -0.13699687 -0.02024483 ... -0.01535873  0.9688326\n",
      "  -0.00445101]\n",
      " [ 0.11594056 -0.1451286  -0.01431435 ... -0.01981589 -0.00201604\n",
      "   0.9679025 ]]\n",
      "[420.1789     7.067591]\n",
      "[[-9.999999e-01 -5.277433e-04]\n",
      " [ 5.277433e-04 -9.999999e-01]]\n"
     ]
    }
   ],
   "source": [
    "#We need to add a column of ones to the x_array so the matrix multiplication of the system of linear equations can be satisfied.\n",
    "\n",
    "#this gives us 1 row of ones, but we need one column so we will transpose and concatenate it to the x_array\n",
    "x_array = np.insert(x_array, x_array.shape[1], 1, axis=1)\n",
    "print(x_array)\n",
    "U, d, VT = np.linalg.svd(x_array)\n",
    "\n",
    "print(U)\n",
    "print(d)\n",
    "print(VT)"
   ]
  },
  {
   "cell_type": "markdown",
   "metadata": {},
   "source": [
    "Now we have V, D and U. We need to find U transposed and D plus.\n",
    "U transposed is simple to find by using the numpy method .transpose()\n",
    "However, to find D plus we need to compute the reciprocal of all the non-zero elements transposed.\n",
    "Since D is a matrix with values of 1 row, we need to diagonalise, invert and then concatenate it with columns of zeros so it has the same shape as X transposed for V * Dplus * UT matrix multiplication to be possible as the number of columns in D plus need to equal the number of rows in X transposed."
   ]
  },
  {
   "cell_type": "code",
   "execution_count": 146,
   "metadata": {},
   "outputs": [
    {
     "ename": "ValueError",
     "evalue": "all the input array dimensions except for the concatenation axis must match exactly, but along dimension 0, the array at index 0 has size 2 and the array at index 1 has size 50",
     "output_type": "error",
     "traceback": [
      "\u001b[0;31m---------------------------------------------------------------------------\u001b[0m",
      "\u001b[0;31mValueError\u001b[0m                                Traceback (most recent call last)",
      "Cell \u001b[0;32mIn[146], line 7\u001b[0m\n\u001b[1;32m      3\u001b[0m d_diag \u001b[38;5;241m=\u001b[39m np\u001b[38;5;241m.\u001b[39mdiag(d)\n\u001b[1;32m      5\u001b[0m d_inv \u001b[38;5;241m=\u001b[39m np\u001b[38;5;241m.\u001b[39mlinalg\u001b[38;5;241m.\u001b[39minv(d_diag)\n\u001b[0;32m----> 7\u001b[0m d_plus \u001b[38;5;241m=\u001b[39m np\u001b[38;5;241m.\u001b[39mconcatenate((d_inv, np\u001b[38;5;241m.\u001b[39marray([[\u001b[38;5;241m0\u001b[39m, \u001b[38;5;241m0\u001b[39m]  \u001b[38;5;241m*\u001b[39m\u001b[38;5;241m25\u001b[39m ])\u001b[38;5;241m.\u001b[39mT), axis\u001b[38;5;241m=\u001b[39m\u001b[38;5;241m1\u001b[39m)\n\u001b[1;32m      8\u001b[0m \u001b[38;5;28mprint\u001b[39m(d_plus)\n",
      "File \u001b[0;32m<__array_function__ internals>:200\u001b[0m, in \u001b[0;36mconcatenate\u001b[0;34m(*args, **kwargs)\u001b[0m\n",
      "\u001b[0;31mValueError\u001b[0m: all the input array dimensions except for the concatenation axis must match exactly, but along dimension 0, the array at index 0 has size 2 and the array at index 1 has size 50"
     ]
    }
   ],
   "source": [
    "UT = U.transpose()\n",
    "\n",
    "d_diag = np.diag(d)\n",
    "\n",
    "d_inv = np.linalg.inv(d_diag)\n",
    "\n",
    "d_plus = np.concatenate((d_inv, np.array([[0, 0]  *25 ]).T), axis=1)\n",
    "print(d_plus)\n"
   ]
  },
  {
   "cell_type": "markdown",
   "metadata": {},
   "source": [
    "Now we have all the elements to calculate the Moore-penrose pseudoinverse which is through\n",
    "V, Dplus and UT."
   ]
  },
  {
   "cell_type": "code",
   "execution_count": null,
   "metadata": {},
   "outputs": [
    {
     "ename": "ValueError",
     "evalue": "shapes (2,3) and (50,50) not aligned: 3 (dim 1) != 50 (dim 0)",
     "output_type": "error",
     "traceback": [
      "\u001b[0;31m---------------------------------------------------------------------------\u001b[0m",
      "\u001b[0;31mValueError\u001b[0m                                Traceback (most recent call last)",
      "Cell \u001b[0;32mIn[138], line 1\u001b[0m\n\u001b[0;32m----> 1\u001b[0m x_plus \u001b[38;5;241m=\u001b[39m np\u001b[38;5;241m.\u001b[39mdot(VT\u001b[38;5;241m.\u001b[39mT, np\u001b[38;5;241m.\u001b[39mdot(d_plus, UT))\n",
      "File \u001b[0;32m<__array_function__ internals>:200\u001b[0m, in \u001b[0;36mdot\u001b[0;34m(*args, **kwargs)\u001b[0m\n",
      "\u001b[0;31mValueError\u001b[0m: shapes (2,3) and (50,50) not aligned: 3 (dim 1) != 50 (dim 0)"
     ]
    }
   ],
   "source": [
    "x_plus = np.dot(VT.T, np.dot(d_plus, UT))"
   ]
  },
  {
   "cell_type": "code",
   "execution_count": null,
   "metadata": {},
   "outputs": [
    {
     "name": "stdout",
     "output_type": "stream",
     "text": [
      "[[-3.80874088e-04 -2.52009369e-04  1.14996408e-04  1.87306898e-04\n",
      "  -1.05909414e-04 -4.17810516e-04  1.49369633e-04  6.05438108e-05\n",
      "  -3.26567504e-04  3.22667038e-04  3.47685069e-04  3.55552067e-04\n",
      "   1.04531682e-04  9.98832984e-05 -5.31721395e-04 -2.62778136e-04\n",
      "  -5.99102641e-04 -2.92110984e-04 -2.28119505e-04  4.20948112e-04\n",
      "   2.63264548e-04  5.38564927e-04  4.51952219e-05 -3.22847103e-04\n",
      "   3.06313850e-05 -6.25100685e-04  4.55084082e-04 -6.75742223e-04\n",
      "  -2.75780280e-06  4.12644586e-04  5.34463325e-04  2.40969763e-04\n",
      "   4.74866509e-04  1.47634200e-04 -4.72102984e-04  7.00208417e-04\n",
      "  -2.54549610e-04 -3.93436989e-04 -2.04139782e-04  8.93692195e-05\n",
      "  -6.31559233e-05  1.12331429e-04  6.97145239e-04  1.38493502e-04\n",
      "   2.59422784e-04  2.11221355e-04  7.86819845e-04 -5.06239361e-04\n",
      "  -7.17039686e-04 -6.67698914e-04]\n",
      " [ 1.78412478e-02  1.85716376e-02  2.06517857e-02  2.10616328e-02\n",
      "   1.93997156e-02  1.76318958e-02  2.08466072e-02  2.03431528e-02\n",
      "   1.81490500e-02  2.18288377e-02  2.19706390e-02  2.20152289e-02\n",
      "   2.05924734e-02  2.05661263e-02  1.69862621e-02  1.85106043e-02\n",
      "   1.66043527e-02  1.83443464e-02  1.87070426e-02  2.23858841e-02\n",
      "   2.14921534e-02  2.30525229e-02  2.02561617e-02  1.81701388e-02\n",
      "   2.01736130e-02  1.64569989e-02  2.25793645e-02  1.61699690e-02\n",
      "   1.99843664e-02  2.23388206e-02  2.30292771e-02  2.13657878e-02\n",
      "   2.26914883e-02  2.08367724e-02  1.73241738e-02  2.39687003e-02\n",
      "   1.85572393e-02  1.77700426e-02  1.88429561e-02  2.05065329e-02\n",
      "   1.96420401e-02  2.06366815e-02  2.39513386e-02  2.07849666e-02\n",
      "   2.14703772e-02  2.11971775e-02  2.44596042e-02  1.71306916e-02\n",
      "   1.59358997e-02  1.62155572e-02]]\n"
     ]
    }
   ],
   "source": [
    "inverse = np.linalg.pinv(x_array)\n",
    "print(inverse)"
   ]
  },
  {
   "cell_type": "code",
   "execution_count": null,
   "metadata": {},
   "outputs": [
    {
     "name": "stdout",
     "output_type": "stream",
     "text": [
      "[[5.0823307]\n",
      " [9.034594 ]]\n"
     ]
    }
   ],
   "source": [
    "m = np.dot(inverse, y_array)\n",
    "print(m)"
   ]
  },
  {
   "cell_type": "markdown",
   "metadata": {},
   "source": [
    "Here, we can see that our method produces approximately 5.08 as the gradient (m parameter) and 9.03 as the y intercept (b parameter). Hence using this method we are able to see that this is the most accurate estimator for a line of best fit for a linear relationship between 2 variables. As we have the information, we can use calculus in machine learning to aid in finding the line of best fit through incremental changes."
   ]
  },
  {
   "cell_type": "markdown",
   "metadata": {},
   "source": [
    "We will use gradient descent as our tool of the Reinforcement Machine Learning method to optimise the parameters m and b. Simply put, reinforcement learning involves training a model to make decisions by finding the most optimal result. The training process involves a trial and error method until the most optimal result is found. Therefore, in the case it would be predicting the most accurate values for parameters m and b for the equation of a line.\n",
    "\n",
    "The 5 step process is:\n",
    "Initialising Parameters: Start by assigning random values to the parameters we are trying to predict.\n",
    "\n",
    "Forward Propagation: Use these parameters to predict the output values.\n",
    "\n",
    "\n",
    "Calculate Cost: Compare the actual output value with the predicted output values. The cost function measures how far off the predictions are from the actual values.\n",
    "\n",
    "Backpropagation (computing the gradient of cost): Find the partial derivatives of the cost function with respect to each of the parameters. This is done using the chain rule of calculus.\n",
    "\n",
    "Parameter Update: Use gradient descent to update the values of the parameters. Adjust the parameters in the direction that minimizes the cost function. This is done by subtracting a fraction of the gradient from the parameters.\n",
    "\n",
    "This process iterates until the cost function reaches a minimum, or at least until it converges satisfactorily. Through this iterative process, the model gradually learns the best parameters to make accurate predictions for m and b.\n",
    "\n",
    "<img src = \"ml steps.png\" width=\"500\">\n"
   ]
  },
  {
   "cell_type": "markdown",
   "metadata": {},
   "source": [
    "Before we start machine learning, we will manually compute each step of the process to visualise each step of how the model learns.\n",
    "Note that Pytorch will be used to implement the machine learning process."
   ]
  },
  {
   "cell_type": "code",
   "execution_count": null,
   "metadata": {},
   "outputs": [],
   "source": [
    "#lets create some functions to simplify the code below\n",
    "#Lets use a function called regression to compute output Y\n",
    "def regression(x, m, b):\n",
    "    y = m*x + b\n",
    "    return y\n",
    "\n",
    "#Lets also plot our data points and produce what the random values of m and b look like\n",
    "def plot(x, y, m, b):\n",
    "    fig, ax = plt.subplots()\n",
    "    ax.scatter(x, y)\n",
    "    \n",
    "    x_min, x_max = ax.get_xlim()\n",
    "    y_min = regression(x_min, m, b).detach().item()\n",
    "    y_max = regression(x_max, m, b).detach().item()\n",
    "    \n",
    "    ax.set_xlim([x, x_max])\n",
    "    _ = ax.plot([x_min, x_max], [y_min, y_max])"
   ]
  },
  {
   "cell_type": "markdown",
   "metadata": {},
   "source": [
    "Step 1: Using random values for m and b.\n",
    "For this example lets use - 5 for m and - 10 for b.\n",
    "\n",
    "Step 2: Do a forward pass (calculate the y value using the random values for parameters we picked).\n",
    "Using m = -5 and b = -10 for the 50 x values to create an array of predicted y values called y_hat"
   ]
  },
  {
   "cell_type": "code",
   "execution_count": null,
   "metadata": {},
   "outputs": [],
   "source": [
    "#implementing Step 2\n",
    "#we treat m and b as tensors as we will be treating them as scalar tensors to conduct operations on the vector tensors on x_\n",
    "m = torch.tensor([-5]).requires_grad_()\n",
    "#We use the requires_grad_() method which we use to tell PyTorch that we want to calculate gradients with respect to that variable at that value.\n",
    "b = torch.tensor([-10]).requires_grad_()\n",
    "#\n",
    "\n",
    "\n"
   ]
  }
 ],
 "metadata": {
  "kernelspec": {
   "display_name": "base",
   "language": "python",
   "name": "python3"
  },
  "language_info": {
   "codemirror_mode": {
    "name": "ipython",
    "version": 3
   },
   "file_extension": ".py",
   "mimetype": "text/x-python",
   "name": "python",
   "nbconvert_exporter": "python",
   "pygments_lexer": "ipython3",
   "version": "3.11.5"
  }
 },
 "nbformat": 4,
 "nbformat_minor": 2
}
