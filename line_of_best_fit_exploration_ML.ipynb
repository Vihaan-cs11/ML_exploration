{
 "cells": [
  {
   "cell_type": "markdown",
   "metadata": {},
   "source": [
    "Preface:\n",
    "Throughout my schooling years, I've always been fascinated by the way data can narrate a compelling story. In my middle school lessons, we were taught to generalise a linear relationship with data with formula y=mx+b, where m denotes the slope and b the y-intercept. To find the parameters to this formila ypically involved selecting two points, often the first and last data points given, to calculate the slope and y-intercept. However, I've often pondered the accuracy of this approach and sought out alternative methods.\n",
    "\n",
    "After conducting thorough research, I came across the idea of delving into the fundamentals of linear algebra, particularly utilizing matrices and single value decomposition (SVD), as a promising avenue to achieve a more precise estimation of these parameters. Additionally, I became fascinated by the potential of employing machine learning techniques, specifically supervised learning, to develop and refine a model that closely aligns with the observed data points. This exploration aims to delve into these concepts, elucidating their underlying principles, and showcasing the efficacy of supervised machine learning in identifying an optimal model."
   ]
  },
  {
   "cell_type": "markdown",
   "metadata": {},
   "source": [
    "Methodology:\n",
    "The data that will be used is developed randomly by the PyTorch library, where a tensor with 50 x values is created. Using the torch.normal method, 50 corresponding y-values will be created with input parameters m = 5, and b = 10 with standard deviation of 0.2 at random (The parameters have been chosen at random). With our values set, linear algebra concepts will be employed to determine the most accurate estimators for our parameters m and b. Furthermore a 4-step machine learning process is employed to find estimates for our parameters."
   ]
  },
  {
   "cell_type": "code",
   "execution_count": 2,
   "metadata": {},
   "outputs": [
    {
     "name": "stdout",
     "output_type": "stream",
     "text": [
      "[[  3.1742215 ]\n",
      " [ 42.576694  ]\n",
      " [ 83.99989   ]\n",
      " [ -2.3769975 ]\n",
      " [-69.30779   ]\n",
      " [-31.325722  ]\n",
      " [ 70.80703   ]\n",
      " [ 25.829351  ]\n",
      " [-94.861664  ]\n",
      " [ 96.45033   ]\n",
      " [-10.050858  ]\n",
      " [  4.698324  ]\n",
      " [-16.854525  ]\n",
      " [ 97.213554  ]\n",
      " [ 35.556637  ]\n",
      " [  3.1067133 ]\n",
      " [-46.681427  ]\n",
      " [ 41.002335  ]\n",
      " [-33.071125  ]\n",
      " [-96.03352   ]\n",
      " [-89.839745  ]\n",
      " [-34.509254  ]\n",
      " [ -1.7142057 ]\n",
      " [-96.69068   ]\n",
      " [ 63.740242  ]\n",
      " [ 83.19248   ]\n",
      " [-68.092606  ]\n",
      " [ -8.6554165 ]\n",
      " [-40.886845  ]\n",
      " [-20.257568  ]\n",
      " [ 67.77059   ]\n",
      " [ 39.061653  ]\n",
      " [  5.1627636 ]\n",
      " [-18.830633  ]\n",
      " [ 76.39184   ]\n",
      " [-78.648056  ]\n",
      " [ 74.069145  ]\n",
      " [-70.93065   ]\n",
      " [ 81.09474   ]\n",
      " [  0.36058426]\n",
      " [ 69.21315   ]\n",
      " [-10.726679  ]\n",
      " [-71.149155  ]\n",
      " [-34.446083  ]\n",
      " [ 48.3935    ]\n",
      " [-38.41101   ]\n",
      " [ 46.231674  ]\n",
      " [-30.981041  ]\n",
      " [ 35.222305  ]\n",
      " [-45.02057   ]]\n",
      "[[  51.335518 ]\n",
      " [ 217.61725  ]\n",
      " [ 450.22702  ]\n",
      " [ -29.252214 ]\n",
      " [-304.1321   ]\n",
      " [-127.50908  ]\n",
      " [ 407.56302  ]\n",
      " [ 196.92291  ]\n",
      " [-473.26782  ]\n",
      " [ 527.3382   ]\n",
      " [ -61.339455 ]\n",
      " [  50.398346 ]\n",
      " [-103.150444 ]\n",
      " [ 467.45868  ]\n",
      " [ 182.85529  ]\n",
      " [  40.624115 ]\n",
      " [-173.60962  ]\n",
      " [ 242.41635  ]\n",
      " [-104.6192   ]\n",
      " [-472.51025  ]\n",
      " [-444.71533  ]\n",
      " [-142.75616  ]\n",
      " [   4.505614 ]\n",
      " [-482.2288   ]\n",
      " [ 346.5857   ]\n",
      " [ 449.16983  ]\n",
      " [-329.1563   ]\n",
      " [ -40.496094 ]\n",
      " [-246.55391  ]\n",
      " [-134.72906  ]\n",
      " [ 312.24402  ]\n",
      " [ 188.68004  ]\n",
      " [  25.490614 ]\n",
      " [-118.312836 ]\n",
      " [ 427.3398   ]\n",
      " [-441.1177   ]\n",
      " [ 404.99527  ]\n",
      " [-331.1554   ]\n",
      " [ 471.50607  ]\n",
      " [  69.4756   ]\n",
      " [ 338.68423  ]\n",
      " [  -3.2910042]\n",
      " [-372.69577  ]\n",
      " [-147.67584  ]\n",
      " [ 270.34744  ]\n",
      " [-126.75406  ]\n",
      " [ 269.46692  ]\n",
      " [-143.04153  ]\n",
      " [ 169.51425  ]\n",
      " [-195.52682  ]]\n"
     ]
    }
   ],
   "source": [
    "import torch\n",
    "import numpy as np\n",
    "import matplotlib.pyplot as plt\n",
    "#we will create a random tensor to be the x values of the dataset of 50 values \n",
    "random_x_tensor = torch.FloatTensor(1, 50).uniform_(-1, 1) * 100\n",
    "#save the random tensor we have created in a new tensor called x_tensor\n",
    "x_tensor = random_x_tensor\n",
    "x_array = x_tensor.numpy()\n",
    "\n",
    "#create the y_tensor\n",
    "y_tensor = 5*x_tensor + 10 + torch.normal(mean=torch.zeros(50), std=30)\n",
    "y_array = y_tensor.numpy()\n",
    "\n",
    "x_array = x_array.transpose()\n",
    "y_array = y_array.transpose()\n",
    "print(x_array)\n",
    "print(y_array)"
   ]
  },
  {
   "cell_type": "code",
   "execution_count": 3,
   "metadata": {},
   "outputs": [
    {
     "data": {
      "text/plain": [
       "<matplotlib.collections.PathCollection at 0x1414ced10>"
      ]
     },
     "execution_count": 3,
     "metadata": {},
     "output_type": "execute_result"
    },
    {
     "data": {
      "image/png": "[encoded data removed]",
      "text/plain": [
       "<Figure size 640x480 with 1 Axes>"
      ]
     },
     "metadata": {},
     "output_type": "display_data"
    }
   ],
   "source": [
    "#Plot the relationship betweeen x and y for a visual representation\n",
    "fig, ax = plt.subplots()\n",
    "plt.title(\"random data set of 50 values, with variation of st_dev = 30\")\n",
    "plt.xlabel(\"x\")\n",
    "plt.ylabel(\"y\")\n",
    "ax.scatter(x_tensor, y_tensor)"
   ]
  },
  {
   "cell_type": "markdown",
   "metadata": {},
   "source": [
    "Linear Algebra:\n",
    "We'll use linear algebra to find the best predictors for our parameters, m and b. We'll use a method called singular value decomposition, which relies on two main ideas: matrix algebra and decomposition. We'll set up matrices so that y (output) equals x (input) times p (parameters). Our goal is to solve for p.\n",
    "\n",
    "<img src = \"matrix.png\" width=\"150\">\n",
    "\n",
    "By using the inverse of matrix x, we can separate out the matrix p containing our parameters. So, to find the values of m and b in matrix p, we multiply the inverse of x by y. Here's an example of how the matrices are arranged in the system."
   ]
  },
  {
   "cell_type": "markdown",
   "metadata": {},
   "source": [
    "Here is an example with values to present the relationship between the matrices.\n",
    "\n",
    "<img src = \"1initial.png\" width=\"205\">\n",
    "\n",
    "In the matrix multiplication system, the first column of x is multiplied by m, and the second column is multiplied by b. For instance, the first row multiplication results in 2 = 43m + b, demonstrating that the matrix multiplication correctly represents the system to find m and b. Now, let's perform the inverse multiplication of x with y to isolate the parameter matrix p.\n",
    "\n",
    "<img src = \"1inverse.png\" width=\"205\">\n",
    "\n",
    "\n",
    "\n"
   ]
  },
  {
   "cell_type": "markdown",
   "metadata": {},
   "source": [
    "To compute the inverse of matrix x, we are unable to employ the concept of eigendecomposition as that concept can only be applied to square matrices. However, the solution to this barrier is the Moore-Penrose Pseuodoinverse. The following notation will walk through the pseudoinverse. \n",
    "\n",
    "<img src = \"pseudo.png\" width=\"500\">\n",
    "\n",
    "Before we get into calculating the pseudoinverse, lets spend some time grasping the concept of Singular Value Decomposition (SVD) and what it does. As the pseudoinverse is calculated, it uses components of the SVD of the matrix X.\n",
    "\n",
    "In essence, SVD provides a way to decompose a matrix into simpler components, which facilitates the calculation of the pseudoinverse. The steps to caluclate the pseudoinverse are:\n",
    "- Decompose the matrix into its SVD: U, V, D\n",
    "- Construct the Moore-Penrose Pseudoinverse by finding V^+ and D transposed\n",
    "\n",
    "SVD is similar to Eigendecomposition in the manner in which it takes a large matrix and breaks it down into 3 smaller matrices, U, V, D.\n",
    "In essence it breaks the matrices into:\n",
    "- Important Directions (Singular Vectors): It identifies the directions in which the most important information in the matrix is concentrated. \n",
    "- Importance of Directions (Singular Values): It determines how important each of these directions is. This importance is quantified by singular values.\n",
    "\n",
    "\n",
    "- U and V are the singular vectors which are orthornmal matrices which contain vectors which are linearly independent to each other. \n",
    "\n",
    "\n"
   ]
  },
  {
   "cell_type": "code",
   "execution_count": 4,
   "metadata": {},
   "outputs": [
    {
     "name": "stdout",
     "output_type": "stream",
     "text": [
      "[[  3.1742215    1.        ]\n",
      " [ 42.576694     1.        ]\n",
      " [ 83.99989      1.        ]\n",
      " [ -2.3769975    1.        ]\n",
      " [-69.30779      1.        ]\n",
      " [-31.325722     1.        ]\n",
      " [ 70.80703      1.        ]\n",
      " [ 25.829351     1.        ]\n",
      " [-94.861664     1.        ]\n",
      " [ 96.45033      1.        ]\n",
      " [-10.050858     1.        ]\n",
      " [  4.698324     1.        ]\n",
      " [-16.854525     1.        ]\n",
      " [ 97.213554     1.        ]\n",
      " [ 35.556637     1.        ]\n",
      " [  3.1067133    1.        ]\n",
      " [-46.681427     1.        ]\n",
      " [ 41.002335     1.        ]\n",
      " [-33.071125     1.        ]\n",
      " [-96.03352      1.        ]\n",
      " [-89.839745     1.        ]\n",
      " [-34.509254     1.        ]\n",
      " [ -1.7142057    1.        ]\n",
      " [-96.69068      1.        ]\n",
      " [ 63.740242     1.        ]\n",
      " [ 83.19248      1.        ]\n",
      " [-68.092606     1.        ]\n",
      " [ -8.6554165    1.        ]\n",
      " [-40.886845     1.        ]\n",
      " [-20.257568     1.        ]\n",
      " [ 67.77059      1.        ]\n",
      " [ 39.061653     1.        ]\n",
      " [  5.1627636    1.        ]\n",
      " [-18.830633     1.        ]\n",
      " [ 76.39184      1.        ]\n",
      " [-78.648056     1.        ]\n",
      " [ 74.069145     1.        ]\n",
      " [-70.93065      1.        ]\n",
      " [ 81.09474      1.        ]\n",
      " [  0.36058426   1.        ]\n",
      " [ 69.21315      1.        ]\n",
      " [-10.726679     1.        ]\n",
      " [-71.149155     1.        ]\n",
      " [-34.446083     1.        ]\n",
      " [ 48.3935       1.        ]\n",
      " [-38.41101      1.        ]\n",
      " [ 46.231674     1.        ]\n",
      " [-30.981041     1.        ]\n",
      " [ 35.222305     1.        ]\n",
      " [-45.02057      1.        ]]\n",
      "[[-8.00385233e-03 -1.41334757e-01 -2.15090349e-01 ...  7.34823942e-02\n",
      "  -9.26710740e-02  1.08718015e-01]\n",
      " [-1.07351087e-01 -1.40131071e-01 -1.32077172e-01 ... -1.45504668e-01\n",
      "  -1.37773439e-01 -1.47144213e-01]\n",
      " [-2.11793274e-01 -1.38865635e-01  9.44213927e-01 ...  5.61278895e-04\n",
      "  -3.18822153e-02  7.44146481e-03]\n",
      " ...\n",
      " [ 7.81133547e-02 -1.42378166e-01  1.78995507e-03 ...  9.73409057e-01\n",
      "  -1.02498699e-02 -3.00563052e-02]\n",
      " [-8.88081342e-02 -1.40355736e-01 -3.13609838e-02 ... -1.09573128e-02\n",
      "   9.77294743e-01 -8.46596155e-03]\n",
      " [ 1.13511853e-01 -1.42807052e-01  8.82016588e-03 ... -2.99062803e-02\n",
      "  -7.60849379e-03  9.65365112e-01]]\n",
      "[396.61368    7.070549]\n",
      "[[-1.0000000e+00 -2.1599625e-04]\n",
      " [ 2.1599625e-04 -1.0000000e+00]]\n"
     ]
    }
   ],
   "source": [
    "#We need to add a column of ones to the x_array so the matrix multiplication of the system of linear equations can be satisfied.\n",
    "\n",
    "#this gives us 1 row of ones, but we need one column so we will transpose and concatenate it to the x_array\n",
    "x_array = np.insert(x_array, x_array.shape[1], 1, axis=1)\n",
    "print(x_array)\n",
    "U, d, VT = np.linalg.svd(x_array)\n",
    "\n",
    "print(U)\n",
    "print(d)\n",
    "print(VT)"
   ]
  },
  {
   "cell_type": "markdown",
   "metadata": {},
   "source": [
    "Now we have V, D and U. We need to find U transposed and D plus.\n",
    "U transposed is simple to find by using the numpy method .transpose()\n",
    "However, to find D plus we need to compute the reciprocal of all the non-zero elements transposed.\n",
    "Since D is a matrix with values of 1 row, we need to diagonalise, invert and then concatenate it with columns of zeros so it has the same shape as X transposed for V * Dplus * UT matrix multiplication to be possible as the number of columns in D plus need to equal the number of rows in X transposed."
   ]
  },
  {
   "cell_type": "markdown",
   "metadata": {},
   "source": [
    "\n",
    "UT = U.transpose()\n",
    "\n",
    "d_diag = np.diag(d)\n",
    "\n",
    "d_inv = np.linalg.inv(d_diag)\n",
    "\n",
    "d_plus = np.concatenate((d_inv, np.array([[0, 0]  *25 ]).T), axis=1)\n",
    "print(d_plus)\n"
   ]
  },
  {
   "cell_type": "markdown",
   "metadata": {},
   "source": [
    "Now we have all the elements to calculate the Moore-penrose pseudoinverse which is through\n",
    "V, Dplus and UT.\n"
   ]
  },
  {
   "cell_type": "code",
   "execution_count": 5,
   "metadata": {},
   "outputs": [
    {
     "name": "stdout",
     "output_type": "stream",
     "text": [
      "[[ 1.58628773e-05  2.66388321e-04  5.29761775e-04 -1.94324075e-05\n",
      "  -4.44986101e-04 -2.03491712e-04  4.45879996e-04  1.59906791e-04\n",
      "  -6.07460563e-04  6.08923147e-04 -6.82236860e-05  2.55532996e-05\n",
      "  -1.11482186e-04  6.13775745e-04  2.21754002e-04  1.54336522e-05\n",
      "  -3.01125052e-04  2.56378349e-04 -2.14589192e-04 -6.14911318e-04\n",
      "  -5.75530634e-04 -2.23732990e-04 -1.52183029e-05 -6.19089638e-04\n",
      "   4.00948571e-04  5.24628151e-04 -4.37259790e-04 -5.93513214e-05\n",
      "  -2.64282426e-04 -1.33119131e-04  4.26573999e-04  2.44039300e-04\n",
      "   2.85062561e-05 -1.24046521e-04  4.81388881e-04 -5.04372583e-04\n",
      "   4.66620928e-04 -4.55304398e-04  5.11290506e-04 -2.02654951e-06\n",
      "   4.35745984e-04 -7.25206410e-05 -4.56693699e-04 -2.23331343e-04\n",
      "   3.03372217e-04 -2.48540804e-04  2.89627089e-04 -2.01300194e-04\n",
      "   2.19628273e-04 -2.90565134e-04]\n",
      " [ 1.99892242e-02  1.98190380e-02  1.96401235e-02  2.00132020e-02\n",
      "   2.03022882e-02  2.01382358e-02  1.96971055e-02  1.98913720e-02\n",
      "   2.04126611e-02  1.95863489e-02  2.00463478e-02  1.99826416e-02\n",
      "   2.00757328e-02  1.95830520e-02  1.98493581e-02  1.99895166e-02\n",
      "   2.02045608e-02  1.98258366e-02  2.01457739e-02  2.04177201e-02\n",
      "   2.03909688e-02  2.01519877e-02  2.00103391e-02  2.04205588e-02\n",
      "   1.97276287e-02  1.96436103e-02  2.02970412e-02  2.00403202e-02\n",
      "   2.01795325e-02  2.00904310e-02  1.97102204e-02  1.98342204e-02\n",
      "   1.99806374e-02  2.00842675e-02  1.96729843e-02  2.03426294e-02\n",
      "   1.96830165e-02  2.03092974e-02  1.96526721e-02  2.00013760e-02\n",
      "   1.97039917e-02  2.00492647e-02  2.03102417e-02  2.01517139e-02\n",
      "   1.97939146e-02  2.01688409e-02  1.98032521e-02  2.01367475e-02\n",
      "   1.98508035e-02  2.01973878e-02]]\n"
     ]
    }
   ],
   "source": [
    "inverse = np.linalg.pinv(x_array)\n",
    "print(inverse)"
   ]
  },
  {
   "cell_type": "code",
   "execution_count": 6,
   "metadata": {},
   "outputs": [],
   "source": [
    "parameters = np.dot(inverse, y_array)\n"
   ]
  },
  {
   "cell_type": "code",
   "execution_count": 7,
   "metadata": {},
   "outputs": [
    {
     "name": "stdout",
     "output_type": "stream",
     "text": [
      "slope is:  [5.1128]\n",
      "y intercept is:  [17.19009]\n"
     ]
    }
   ],
   "source": [
    "m  = parameters[0]\n",
    "b = parameters[1]\n",
    "print('slope is: ',m)\n",
    "print('y intercept is: ',b)"
   ]
  },
  {
   "cell_type": "markdown",
   "metadata": {},
   "source": [
    "To better visualise the accuracy of the parameters, lets plot the data points and the equation of the line."
   ]
  },
  {
   "cell_type": "code",
   "execution_count": 8,
   "metadata": {},
   "outputs": [],
   "source": [
    "def regression(x, m, b):\n",
    "    y = m*x + b\n",
    "    return y\n",
    "\n",
    "def plot(x, y, m, b):\n",
    "    fig, ax = plt.subplots()\n",
    "\n",
    "    ax.scatter(x, y)\n",
    "    \n",
    "    x_min, x_max = ax.get_xlim()\n",
    "    y_min = regression(x_min, m, b).detach().item()\n",
    "    y_max = regression(x_max, m, b).detach().item()\n",
    "    \n",
    "    ax.set_xlim([x_min, x_max])\n",
    "    _ = ax.plot([x_min, x_max], [y_min, y_max])\n",
    "    \n",
    "    _ = ax.plot([x_min, x_max], [y_min, y_max])"
   ]
  },
  {
   "cell_type": "code",
   "execution_count": 9,
   "metadata": {},
   "outputs": [
    {
     "name": "stderr",
     "output_type": "stream",
     "text": [
      "/var/folders/28/ngv_x0d13y1gghqldrf1l_yw0000gn/T/ipykernel_46917/4266050676.py:1: UserWarning: Creating a tensor from a list of numpy.ndarrays is extremely slow. Please consider converting the list to a single numpy.ndarray with numpy.array() before converting to a tensor. (Triggered internally at /Users/runner/work/pytorch/pytorch/pytorch/torch/csrc/utils/tensor_new.cpp:278.)\n",
      "  m = torch.tensor([parameters[0]])\n"
     ]
    },
    {
     "data": {
      "image/png": "[encoded data removed]",
      "text/plain": [
       "<Figure size 640x480 with 1 Axes>"
      ]
     },
     "metadata": {},
     "output_type": "display_data"
    }
   ],
   "source": [
    "m = torch.tensor([parameters[0]])\n",
    "b = torch.tensor([parameters[1]])\n",
    "plot(x_tensor, y_tensor, m,b)"
   ]
  },
  {
   "cell_type": "markdown",
   "metadata": {},
   "source": [
    "Here, we observe that our approach yields reasonably accurate results. Thus, using this method, we can determine the most precise estimator for a line of best fit in a linear relationship between two variables. With this information, we can employ calculus in machine learning to assist in finding the optimal line of best fit through iterative adjustments. Upon completion of our exploration, we will assess the model's accuracy."
   ]
  },
  {
   "cell_type": "markdown",
   "metadata": {},
   "source": [
    "We'll utilize gradient descent as our tool in the Reinforcement Machine Learning method to refine the parameters m and b. In simple terms, reinforcement learning trains a model to make decisions by finding the best possible outcome. This involves a trial-and-error approach until the optimal result is achieved, which, in this case, means predicting the most accurate values for m and b in the equation of a line.\n",
    "\n",
    "The process involves five steps:\n",
    "\n",
    "Initializing Parameters: Start by assigning random values to the parameters we're trying to predict.\n",
    "\n",
    "Forward Propagation: Use these parameters to predict the output values.\n",
    "\n",
    "Calculate Cost: Compare the predicted output values with the actual ones. The cost function gauges how much the predictions deviate from the actual values.\n",
    "\n",
    "Backpropagation (computing the gradient of cost): Find the partial derivatives of the cost function concerning each parameter using the chain rule of calculus.\n",
    "\n",
    "Parameter Update: Employ gradient descent to adjust the parameter values. Modify the parameters in a way that minimizes the cost function by subtracting a fraction of the gradient from them.\n",
    "\n",
    "This process iterates until the cost function reaches a minimum, or until it converges satisfactorily. Through this iterative process, the model gradually learns the optimal parameters to make precise predictions for m and b.\n",
    "\n",
    "<img src = \"ml steps.png\" width=\"500\">\n"
   ]
  },
  {
   "cell_type": "code",
   "execution_count": 10,
   "metadata": {},
   "outputs": [
    {
     "data": {
      "text/plain": [
       "tensor([[  3.1742,  42.5767,  83.9999,  -2.3770, -69.3078, -31.3257,  70.8070,\n",
       "          25.8294, -94.8617,  96.4503, -10.0509,   4.6983, -16.8545,  97.2136,\n",
       "          35.5566,   3.1067, -46.6814,  41.0023, -33.0711, -96.0335, -89.8397,\n",
       "         -34.5093,  -1.7142, -96.6907,  63.7402,  83.1925, -68.0926,  -8.6554,\n",
       "         -40.8868, -20.2576,  67.7706,  39.0617,   5.1628, -18.8306,  76.3918,\n",
       "         -78.6481,  74.0691, -70.9306,  81.0947,   0.3606,  69.2132, -10.7267,\n",
       "         -71.1492, -34.4461,  48.3935, -38.4110,  46.2317, -30.9810,  35.2223,\n",
       "         -45.0206]])"
      ]
     },
     "execution_count": 10,
     "metadata": {},
     "output_type": "execute_result"
    }
   ],
   "source": [
    "#lets have a look at our x and y tensors\n",
    "x_tensor\n"
   ]
  },
  {
   "cell_type": "code",
   "execution_count": 11,
   "metadata": {},
   "outputs": [
    {
     "data": {
      "text/plain": [
       "tensor([[  51.3355,  217.6172,  450.2270,  -29.2522, -304.1321, -127.5091,\n",
       "          407.5630,  196.9229, -473.2678,  527.3382,  -61.3395,   50.3983,\n",
       "         -103.1504,  467.4587,  182.8553,   40.6241, -173.6096,  242.4164,\n",
       "         -104.6192, -472.5103, -444.7153, -142.7562,    4.5056, -482.2288,\n",
       "          346.5857,  449.1698, -329.1563,  -40.4961, -246.5539, -134.7291,\n",
       "          312.2440,  188.6800,   25.4906, -118.3128,  427.3398, -441.1177,\n",
       "          404.9953, -331.1554,  471.5061,   69.4756,  338.6842,   -3.2910,\n",
       "         -372.6958, -147.6758,  270.3474, -126.7541,  269.4669, -143.0415,\n",
       "          169.5143, -195.5268]])"
      ]
     },
     "execution_count": 11,
     "metadata": {},
     "output_type": "execute_result"
    }
   ],
   "source": [
    "y_tensor\n"
   ]
  },
  {
   "cell_type": "markdown",
   "metadata": {},
   "source": [
    "Before we start machine learning, we will manually compute each step of the process to visualise each step of how the model learns.\n",
    "Note that the Pytorch package will be used to implement the machine learning process."
   ]
  },
  {
   "cell_type": "code",
   "execution_count": 12,
   "metadata": {},
   "outputs": [
    {
     "data": {
      "text/plain": [
       "tensor([10.])"
      ]
     },
     "execution_count": 12,
     "metadata": {},
     "output_type": "execute_result"
    }
   ],
   "source": [
    "#we treat m and b as tensors as we will be treating them as scalar tensors to conduct operations on the vector tensors on x_tensor\n",
    "m = torch.tensor([10.0])\n",
    "m"
   ]
  },
  {
   "cell_type": "code",
   "execution_count": 13,
   "metadata": {},
   "outputs": [
    {
     "data": {
      "text/plain": [
       "tensor([15.])"
      ]
     },
     "execution_count": 13,
     "metadata": {},
     "output_type": "execute_result"
    }
   ],
   "source": [
    "b = torch.tensor([15.0])\n",
    "b"
   ]
  },
  {
   "cell_type": "code",
   "execution_count": 14,
   "metadata": {},
   "outputs": [
    {
     "data": {
      "image/png": "[encoded data removed]",
      "text/plain": [
       "<Figure size 640x480 with 1 Axes>"
      ]
     },
     "metadata": {},
     "output_type": "display_data"
    }
   ],
   "source": [
    "plot(x_tensor, y_tensor, m, b)"
   ]
  },
  {
   "cell_type": "markdown",
   "metadata": {},
   "source": [
    "In the image above we can see the "
   ]
  },
  {
   "cell_type": "markdown",
   "metadata": {},
   "source": [
    "Step 1: Using random values for m and b.\n",
    "For this example lets use 10 for m and 15 for b.\n",
    "\n",
    "Before we begin step 2, lets visualise what the current line of best fit appears to be like, before we conduct one full round of steps to improve the current best fit line in an incremental manner. We can use our plot function that we created to visualise it"
   ]
  },
  {
   "cell_type": "markdown",
   "metadata": {},
   "source": [
    "Here, we can see the line of best fit is highly innacurate, as we took the negative of the initial parameters to accentuate the ability of the ability for the software and adapt the model.\n",
    "\n",
    "\n",
    "Step 2: Do a forward pass (calculate the y value using the random values for parameters we picked).\n",
    "Using m = -5 and b = -10 for the 50 x values to create an array of predicted y values called y_hat"
   ]
  },
  {
   "cell_type": "code",
   "execution_count": 15,
   "metadata": {},
   "outputs": [
    {
     "data": {
      "text/plain": [
       "tensor([10.], requires_grad=True)"
      ]
     },
     "execution_count": 15,
     "metadata": {},
     "output_type": "execute_result"
    }
   ],
   "source": [
    "#implementing Step 2\n",
    "#we treat m and b as tensors as we will be treating them as scalar tensors to conduct operations on the vector tensors on x_tensor\n",
    "m = torch.tensor([10.0]).requires_grad_()\n",
    "#We use the requires_grad_() method which we use to tell PyTorch that we want to calculate gradients with respect to that variable at that value.\n",
    "m"
   ]
  },
  {
   "cell_type": "code",
   "execution_count": 16,
   "metadata": {},
   "outputs": [
    {
     "data": {
      "text/plain": [
       "tensor([15.], requires_grad=True)"
      ]
     },
     "execution_count": 16,
     "metadata": {},
     "output_type": "execute_result"
    }
   ],
   "source": [
    "b = torch.tensor([15.0]).requires_grad_()\n",
    "b"
   ]
  },
  {
   "cell_type": "code",
   "execution_count": 17,
   "metadata": {},
   "outputs": [
    {
     "data": {
      "text/plain": [
       "tensor([[  46.7422,  440.7669,  854.9989,   -8.7700, -678.0779, -298.2572,\n",
       "          723.0703,  273.2935, -933.6166,  979.5033,  -85.5086,   61.9832,\n",
       "         -153.5452,  987.1356,  370.5664,   46.0671, -451.8143,  425.0233,\n",
       "         -315.7112, -945.3352, -883.3975, -330.0925,   -2.1421, -951.9068,\n",
       "          652.4024,  846.9248, -665.9260,  -71.5542, -393.8684, -187.5757,\n",
       "          692.7059,  405.6165,   66.6276, -173.3063,  778.9184, -771.4806,\n",
       "          755.6915, -694.3065,  825.9474,   18.6058,  707.1315,  -92.2668,\n",
       "         -696.4916, -329.4608,  498.9350, -369.1101,  477.3167, -294.8104,\n",
       "          367.2231, -435.2057]], grad_fn=<AddBackward0>)"
      ]
     },
     "execution_count": 17,
     "metadata": {},
     "output_type": "execute_result"
    }
   ],
   "source": [
    "#y_hat is our predicted y values using our intial parameters\n",
    "y_hat = regression(x_tensor,m,b)\n",
    "#lets see the 50 values that we have produced of our predicted y_values\n",
    "y_hat"
   ]
  },
  {
   "cell_type": "markdown",
   "metadata": {},
   "source": [
    "Step 3: Compare the predcited y values with the actual y values to find the cost value\n",
    "\n",
    "A method of finding the difference or distance from the predicted y's and actual y's will be using mean squared error. There are many other metrics to find the distance or cost however mean squared error is especially useful because of the formula of the metric. It takes the difference between the predicted and the actual y value and squares it. It computes that for all of the corresponding pairs and takes the mean. This way, those predictions that are further away from the actual y values are penalised more since the values are squared. \n",
    "The equation is:\n",
    "\n",
    " <img src = \"MSE.png\" width=\"200\">\n",
    "\n",
    " However, since we have negative values in our model, we will have to use mean absolute error. This is because we need to take the absolute value of the difference between the actual y and predicted y.\n",
    "\n",
    " <img src = \"MAE.jpg\" width=\"400\">\n"
   ]
  },
  {
   "cell_type": "code",
   "execution_count": 18,
   "metadata": {},
   "outputs": [
    {
     "data": {
      "text/plain": [
       "tensor(230.9056, grad_fn=<MeanBackward0>)"
      ]
     },
     "execution_count": 18,
     "metadata": {},
     "output_type": "execute_result"
    }
   ],
   "source": [
    "MAE = torch.nn.L1Loss()\n",
    "cost = MAE(y_hat, y_tensor)\n",
    "cost"
   ]
  },
  {
   "cell_type": "markdown",
   "metadata": {},
   "source": [
    "Step 4: Calcualate the gradient of cost with respect to the parameters m & b\n",
    "Here, we will use the automatic differentiation function of pytorch to find the partial derivative it calculates for each parameter"
   ]
  },
  {
   "cell_type": "code",
   "execution_count": 19,
   "metadata": {},
   "outputs": [],
   "source": [
    "cost.backward()"
   ]
  },
  {
   "cell_type": "markdown",
   "metadata": {},
   "source": [
    "The backward() method in Pytorch is used to calculate the gradient during the backward pass.  If we do not call this backward() method then gradients are not calculated for the tensors with respect to each parameter."
   ]
  },
  {
   "cell_type": "code",
   "execution_count": 20,
   "metadata": {},
   "outputs": [
    {
     "data": {
      "text/plain": [
       "tensor([46.8570])"
      ]
     },
     "execution_count": 20,
     "metadata": {},
     "output_type": "execute_result"
    }
   ],
   "source": [
    "m.grad"
   ]
  },
  {
   "cell_type": "code",
   "execution_count": 21,
   "metadata": {},
   "outputs": [
    {
     "data": {
      "text/plain": [
       "tensor([-0.0800])"
      ]
     },
     "execution_count": 21,
     "metadata": {},
     "output_type": "execute_result"
    }
   ],
   "source": [
    "b.grad"
   ]
  },
  {
   "cell_type": "markdown",
   "metadata": {},
   "source": [
    "Here, we can see the gradients for both m and b have real values indicating that we need to descend these gradients.\n",
    "\n",
    "Step #5: Use gradient descent to change the values.\n",
    "It requires both our parameters and a hyperparameter called the learning rate which helps to calculate the step size.\n",
    "The step size is by how much should the value of m and b must be changed by. It is calculated by \n",
    "\n",
    "step size = learning rate * slope\n",
    "\n",
    "Where slope is b.grad and m.grad. So if the slope is positive it will increase the value, and if it is positive it will decrease the value.\n"
   ]
  },
  {
   "cell_type": "code",
   "execution_count": 22,
   "metadata": {},
   "outputs": [],
   "source": [
    "optimiser = torch.optim.SGD([m, b], lr=0.01)"
   ]
  },
  {
   "cell_type": "code",
   "execution_count": 23,
   "metadata": {},
   "outputs": [],
   "source": [
    "optimiser.step()\n",
    "#this performs a single optimisation step. So it adjusts both parameters (m and b) according to our learning rate. It performs a single step.\n"
   ]
  },
  {
   "cell_type": "code",
   "execution_count": 24,
   "metadata": {},
   "outputs": [
    {
     "data": {
      "text/plain": [
       "tensor([9.5314], requires_grad=True)"
      ]
     },
     "execution_count": 24,
     "metadata": {},
     "output_type": "execute_result"
    }
   ],
   "source": [
    "#now lets confirm the parameters have been adjusted\n",
    "m\n"
   ]
  },
  {
   "cell_type": "code",
   "execution_count": 25,
   "metadata": {},
   "outputs": [
    {
     "data": {
      "text/plain": [
       "tensor([15.0008], requires_grad=True)"
      ]
     },
     "execution_count": 25,
     "metadata": {},
     "output_type": "execute_result"
    }
   ],
   "source": [
    "b"
   ]
  },
  {
   "cell_type": "code",
   "execution_count": 26,
   "metadata": {},
   "outputs": [
    {
     "data": {
      "image/png": "[encoded data removed]",
      "text/plain": [
       "<Figure size 640x480 with 1 Axes>"
      ]
     },
     "metadata": {},
     "output_type": "display_data"
    }
   ],
   "source": [
    "plot(x_tensor, y_tensor,m,b)"
   ]
  },
  {
   "cell_type": "markdown",
   "metadata": {},
   "source": [
    "Here, we are seeing improvement now that the values for m and b are positive. Now we will continue the steps in a function to see the eventual progression and learning that occurs through each learning step. "
   ]
  },
  {
   "cell_type": "code",
   "execution_count": 27,
   "metadata": {},
   "outputs": [
    {
     "name": "stdout",
     "output_type": "stream",
     "text": [
      "Epoch 0, cost 209, m grad 46.9, b grad -0.08\n",
      "Epoch 1, cost 187, m grad 46.9, b grad -0.08\n",
      "Epoch 2, cost 165, m grad 46.9, b grad -0.08\n",
      "Epoch 3, cost 143, m grad 46.7, b grad -0.12\n",
      "Epoch 4, cost 121, m grad 46.7, b grad -0.12\n",
      "Epoch 5, cost 99.8, m grad 45.3, b grad -0.08\n",
      "Epoch 6, cost 80, m grad 42.9, b grad -0.04\n",
      "Epoch 7, cost 61.8, m grad 40.9, b grad 0.04\n",
      "Epoch 8, cost 45.1, m grad 40.8, b grad 0.08\n",
      "Epoch 9, cost 30.1, m grad 28.1, b grad -0.04\n",
      "Epoch 10, cost 24.2, m grad 10.1, b grad -0.2\n",
      "Epoch 11, cost 23.9, m grad -7.04, b grad -0.16\n",
      "Epoch 12, cost 23.9, m grad 4.21, b grad -0.28\n",
      "Epoch 13, cost 23.8, m grad -3.45, b grad -0.2\n",
      "Epoch 14, cost 23.9, m grad 4.21, b grad -0.28\n",
      "Epoch 15, cost 23.8, m grad -3.45, b grad -0.2\n",
      "Epoch 16, cost 23.8, m grad 4.21, b grad -0.28\n",
      "Epoch 17, cost 23.8, m grad -3.45, b grad -0.2\n",
      "Epoch 18, cost 23.8, m grad 4.21, b grad -0.28\n",
      "Epoch 19, cost 23.9, m grad -7.04, b grad -0.16\n",
      "Epoch 20, cost 23.9, m grad 7.57, b grad -0.24\n",
      "Epoch 21, cost 23.9, m grad -7.04, b grad -0.16\n",
      "Epoch 22, cost 23.9, m grad 4.21, b grad -0.28\n",
      "Epoch 23, cost 23.8, m grad -3.45, b grad -0.2\n",
      "Epoch 24, cost 23.9, m grad 4.21, b grad -0.28\n",
      "Epoch 25, cost 23.8, m grad -3.45, b grad -0.2\n",
      "Epoch 26, cost 23.8, m grad 4.21, b grad -0.28\n",
      "Epoch 27, cost 23.8, m grad -3.45, b grad -0.2\n",
      "Epoch 28, cost 23.8, m grad 4.21, b grad -0.28\n",
      "Epoch 29, cost 23.9, m grad -7.04, b grad -0.16\n",
      "Epoch 30, cost 23.9, m grad 7.57, b grad -0.24\n",
      "Epoch 31, cost 23.9, m grad -7.04, b grad -0.16\n",
      "Epoch 32, cost 23.9, m grad 4.21, b grad -0.28\n",
      "Epoch 33, cost 23.8, m grad -3.45, b grad -0.2\n",
      "Epoch 34, cost 23.9, m grad 4.21, b grad -0.28\n",
      "Epoch 35, cost 23.8, m grad -3.45, b grad -0.2\n",
      "Epoch 36, cost 23.8, m grad 4.21, b grad -0.28\n",
      "Epoch 37, cost 23.8, m grad -3.45, b grad -0.2\n",
      "Epoch 38, cost 23.8, m grad 4.21, b grad -0.28\n",
      "Epoch 39, cost 23.9, m grad -7.04, b grad -0.16\n",
      "Epoch 40, cost 23.9, m grad 7.57, b grad -0.24\n",
      "Epoch 41, cost 23.9, m grad -7.04, b grad -0.16\n",
      "Epoch 42, cost 23.9, m grad 4.21, b grad -0.28\n",
      "Epoch 43, cost 23.8, m grad -3.45, b grad -0.2\n",
      "Epoch 44, cost 23.9, m grad 4.21, b grad -0.28\n",
      "Epoch 45, cost 23.8, m grad -3.45, b grad -0.2\n",
      "Epoch 46, cost 23.8, m grad 4.21, b grad -0.28\n",
      "Epoch 47, cost 23.8, m grad -3.45, b grad -0.2\n",
      "Epoch 48, cost 23.8, m grad 4.21, b grad -0.28\n",
      "Epoch 49, cost 23.9, m grad -7.04, b grad -0.16\n",
      "Epoch 50, cost 23.9, m grad 7.57, b grad -0.24\n",
      "Epoch 51, cost 23.9, m grad -7.04, b grad -0.16\n",
      "Epoch 52, cost 23.9, m grad 4.21, b grad -0.28\n",
      "Epoch 53, cost 23.8, m grad -3.45, b grad -0.2\n",
      "Epoch 54, cost 23.9, m grad 4.21, b grad -0.28\n",
      "Epoch 55, cost 23.8, m grad -3.45, b grad -0.2\n",
      "Epoch 56, cost 23.8, m grad 4.21, b grad -0.28\n",
      "Epoch 57, cost 23.8, m grad -3.45, b grad -0.2\n",
      "Epoch 58, cost 23.8, m grad 4.21, b grad -0.28\n",
      "Epoch 59, cost 23.9, m grad -7.04, b grad -0.16\n",
      "Epoch 60, cost 23.9, m grad 7.57, b grad -0.24\n",
      "Epoch 61, cost 23.9, m grad -7.04, b grad -0.16\n",
      "Epoch 62, cost 23.9, m grad 4.21, b grad -0.28\n",
      "Epoch 63, cost 23.8, m grad -3.45, b grad -0.2\n",
      "Epoch 64, cost 23.8, m grad 4.21, b grad -0.28\n",
      "Epoch 65, cost 23.8, m grad -3.45, b grad -0.2\n",
      "Epoch 66, cost 23.8, m grad 4.21, b grad -0.28\n",
      "Epoch 67, cost 23.8, m grad -3.45, b grad -0.2\n",
      "Epoch 68, cost 23.8, m grad 4.21, b grad -0.28\n",
      "Epoch 69, cost 23.9, m grad -7.04, b grad -0.16\n",
      "Epoch 70, cost 23.9, m grad 7.57, b grad -0.24\n",
      "Epoch 71, cost 23.9, m grad -7.04, b grad -0.16\n",
      "Epoch 72, cost 23.9, m grad 4.21, b grad -0.28\n",
      "Epoch 73, cost 23.8, m grad -3.45, b grad -0.2\n",
      "Epoch 74, cost 23.8, m grad 4.21, b grad -0.28\n",
      "Epoch 75, cost 23.8, m grad -3.45, b grad -0.2\n",
      "Epoch 76, cost 23.8, m grad 4.21, b grad -0.28\n",
      "Epoch 77, cost 23.8, m grad -3.45, b grad -0.2\n",
      "Epoch 78, cost 23.8, m grad 4.21, b grad -0.28\n",
      "Epoch 79, cost 23.9, m grad -7.04, b grad -0.16\n",
      "Epoch 80, cost 23.9, m grad 7.57, b grad -0.24\n",
      "Epoch 81, cost 23.9, m grad -7.04, b grad -0.16\n",
      "Epoch 82, cost 23.9, m grad 4.21, b grad -0.28\n",
      "Epoch 83, cost 23.8, m grad -3.45, b grad -0.2\n",
      "Epoch 84, cost 23.8, m grad 4.21, b grad -0.28\n",
      "Epoch 85, cost 23.8, m grad -3.45, b grad -0.2\n",
      "Epoch 86, cost 23.8, m grad 4.21, b grad -0.28\n",
      "Epoch 87, cost 23.8, m grad -3.45, b grad -0.2\n",
      "Epoch 88, cost 23.8, m grad 4.21, b grad -0.28\n",
      "Epoch 89, cost 23.9, m grad -7.04, b grad -0.16\n",
      "Epoch 90, cost 23.9, m grad 7.57, b grad -0.24\n",
      "Epoch 91, cost 23.9, m grad -7.04, b grad -0.16\n",
      "Epoch 92, cost 23.9, m grad 7.57, b grad -0.24\n",
      "Epoch 93, cost 23.9, m grad -8.28, b grad -0.12\n",
      "Epoch 94, cost 23.9, m grad 7.57, b grad -0.24\n",
      "Epoch 95, cost 23.9, m grad -7.04, b grad -0.16\n",
      "Epoch 96, cost 23.9, m grad 7.57, b grad -0.24\n",
      "Epoch 97, cost 23.9, m grad -8.28, b grad -0.12\n",
      "Epoch 98, cost 23.9, m grad 7.57, b grad -0.24\n",
      "Epoch 99, cost 23.9, m grad -7.04, b grad -0.16\n",
      "Epoch 100, cost 23.9, m grad 7.57, b grad -0.24\n",
      "Epoch 101, cost 23.9, m grad -8.28, b grad -0.12\n",
      "Epoch 102, cost 23.9, m grad 7.57, b grad -0.24\n",
      "Epoch 103, cost 23.9, m grad -7.04, b grad -0.16\n",
      "Epoch 104, cost 23.9, m grad 7.57, b grad -0.24\n",
      "Epoch 105, cost 23.9, m grad -7.04, b grad -0.16\n",
      "Epoch 106, cost 23.9, m grad 7.57, b grad -0.24\n",
      "Epoch 107, cost 23.9, m grad -8.28, b grad -0.12\n",
      "Epoch 108, cost 23.9, m grad 7.57, b grad -0.24\n",
      "Epoch 109, cost 23.9, m grad -7.04, b grad -0.16\n",
      "Epoch 110, cost 23.9, m grad 7.57, b grad -0.24\n",
      "Epoch 111, cost 23.9, m grad -8.28, b grad -0.12\n",
      "Epoch 112, cost 23.9, m grad 7.57, b grad -0.24\n",
      "Epoch 113, cost 23.9, m grad -7.04, b grad -0.16\n",
      "Epoch 114, cost 23.9, m grad 7.57, b grad -0.24\n",
      "Epoch 115, cost 23.9, m grad -8.28, b grad -0.12\n",
      "Epoch 116, cost 23.9, m grad 7.57, b grad -0.24\n",
      "Epoch 117, cost 23.9, m grad -7.04, b grad -0.16\n",
      "Epoch 118, cost 23.9, m grad 7.57, b grad -0.24\n",
      "Epoch 119, cost 23.9, m grad -8.28, b grad -0.12\n",
      "Epoch 120, cost 23.9, m grad 7.57, b grad -0.24\n",
      "Epoch 121, cost 23.8, m grad -7.04, b grad -0.16\n",
      "Epoch 122, cost 23.9, m grad 7.57, b grad -0.24\n",
      "Epoch 123, cost 23.9, m grad -7.04, b grad -0.16\n",
      "Epoch 124, cost 23.9, m grad 7.57, b grad -0.24\n",
      "Epoch 125, cost 23.9, m grad -8.28, b grad -0.12\n",
      "Epoch 126, cost 23.9, m grad 7.57, b grad -0.24\n",
      "Epoch 127, cost 23.9, m grad -7.04, b grad -0.16\n",
      "Epoch 128, cost 23.9, m grad 7.57, b grad -0.24\n",
      "Epoch 129, cost 23.9, m grad -8.28, b grad -0.12\n",
      "Epoch 130, cost 23.9, m grad 7.57, b grad -0.24\n",
      "Epoch 131, cost 23.8, m grad -7.04, b grad -0.16\n",
      "Epoch 132, cost 23.9, m grad 7.57, b grad -0.24\n",
      "Epoch 133, cost 23.9, m grad -8.28, b grad -0.12\n",
      "Epoch 134, cost 23.9, m grad 7.57, b grad -0.24\n",
      "Epoch 135, cost 23.8, m grad -7.04, b grad -0.16\n",
      "Epoch 136, cost 23.9, m grad 7.57, b grad -0.24\n",
      "Epoch 137, cost 23.9, m grad -8.28, b grad -0.12\n",
      "Epoch 138, cost 23.9, m grad 7.57, b grad -0.24\n",
      "Epoch 139, cost 23.8, m grad -7.04, b grad -0.16\n",
      "Epoch 140, cost 23.9, m grad 7.57, b grad -0.24\n",
      "Epoch 141, cost 23.9, m grad -7.04, b grad -0.16\n",
      "Epoch 142, cost 23.9, m grad 7.57, b grad -0.24\n",
      "Epoch 143, cost 23.9, m grad -8.28, b grad -0.12\n",
      "Epoch 144, cost 23.9, m grad 7.57, b grad -0.24\n",
      "Epoch 145, cost 23.8, m grad -7.04, b grad -0.16\n",
      "Epoch 146, cost 23.9, m grad 7.57, b grad -0.24\n",
      "Epoch 147, cost 23.9, m grad -8.28, b grad -0.12\n",
      "Epoch 148, cost 23.9, m grad 7.57, b grad -0.24\n",
      "Epoch 149, cost 23.8, m grad -7.04, b grad -0.16\n",
      "Epoch 150, cost 23.9, m grad 7.57, b grad -0.24\n",
      "Epoch 151, cost 23.9, m grad -8.28, b grad -0.12\n",
      "Epoch 152, cost 23.9, m grad 7.57, b grad -0.24\n",
      "Epoch 153, cost 23.8, m grad -7.04, b grad -0.16\n",
      "Epoch 154, cost 23.9, m grad 7.57, b grad -0.24\n",
      "Epoch 155, cost 23.9, m grad -7.04, b grad -0.16\n",
      "Epoch 156, cost 23.9, m grad 7.57, b grad -0.24\n",
      "Epoch 157, cost 23.9, m grad -8.28, b grad -0.12\n",
      "Epoch 158, cost 23.9, m grad 7.57, b grad -0.24\n",
      "Epoch 159, cost 23.8, m grad -7.04, b grad -0.16\n",
      "Epoch 160, cost 23.9, m grad 7.57, b grad -0.24\n",
      "Epoch 161, cost 23.9, m grad -8.28, b grad -0.12\n",
      "Epoch 162, cost 23.9, m grad 7.57, b grad -0.24\n",
      "Epoch 163, cost 23.8, m grad -7.04, b grad -0.16\n",
      "Epoch 164, cost 23.9, m grad 7.57, b grad -0.24\n",
      "Epoch 165, cost 23.9, m grad -8.28, b grad -0.12\n",
      "Epoch 166, cost 23.9, m grad 7.57, b grad -0.24\n",
      "Epoch 167, cost 23.8, m grad -7.04, b grad -0.16\n",
      "Epoch 168, cost 23.9, m grad 7.57, b grad -0.24\n",
      "Epoch 169, cost 23.9, m grad -8.28, b grad -0.12\n",
      "Epoch 170, cost 23.9, m grad 7.57, b grad -0.24\n",
      "Epoch 171, cost 23.8, m grad -7.04, b grad -0.16\n",
      "Epoch 172, cost 23.9, m grad 7.57, b grad -0.24\n",
      "Epoch 173, cost 23.8, m grad -7.04, b grad -0.16\n",
      "Epoch 174, cost 23.9, m grad 7.57, b grad -0.24\n",
      "Epoch 175, cost 23.9, m grad -8.28, b grad -0.12\n",
      "Epoch 176, cost 23.9, m grad 7.57, b grad -0.24\n",
      "Epoch 177, cost 23.8, m grad -7.04, b grad -0.16\n",
      "Epoch 178, cost 23.9, m grad 7.57, b grad -0.24\n",
      "Epoch 179, cost 23.9, m grad -8.28, b grad -0.12\n",
      "Epoch 180, cost 23.9, m grad 7.57, b grad -0.24\n",
      "Epoch 181, cost 23.8, m grad -7.04, b grad -0.16\n",
      "Epoch 182, cost 23.9, m grad 7.57, b grad -0.24\n",
      "Epoch 183, cost 23.9, m grad -8.28, b grad -0.12\n",
      "Epoch 184, cost 23.9, m grad 7.57, b grad -0.24\n",
      "Epoch 185, cost 23.8, m grad -7.04, b grad -0.16\n",
      "Epoch 186, cost 23.9, m grad 7.57, b grad -0.24\n",
      "Epoch 187, cost 23.8, m grad -8.28, b grad -0.12\n",
      "Epoch 188, cost 23.9, m grad 7.57, b grad -0.24\n",
      "Epoch 189, cost 23.8, m grad -7.04, b grad -0.16\n",
      "Epoch 190, cost 23.9, m grad 7.57, b grad -0.24\n",
      "Epoch 191, cost 23.8, m grad -7.04, b grad -0.16\n",
      "Epoch 192, cost 23.9, m grad 7.57, b grad -0.24\n",
      "Epoch 193, cost 23.9, m grad -8.28, b grad -0.12\n",
      "Epoch 194, cost 23.9, m grad 7.57, b grad -0.24\n",
      "Epoch 195, cost 23.8, m grad -7.04, b grad -0.16\n",
      "Epoch 196, cost 23.9, m grad 7.57, b grad -0.24\n",
      "Epoch 197, cost 23.9, m grad -8.28, b grad -0.12\n",
      "Epoch 198, cost 23.9, m grad 7.57, b grad -0.24\n",
      "Epoch 199, cost 23.8, m grad -7.04, b grad -0.16\n",
      "Epoch 200, cost 23.9, m grad 7.57, b grad -0.24\n",
      "Epoch 201, cost 23.8, m grad -8.28, b grad -0.12\n",
      "Epoch 202, cost 23.9, m grad 7.57, b grad -0.24\n",
      "Epoch 203, cost 23.8, m grad -7.04, b grad -0.16\n",
      "Epoch 204, cost 23.9, m grad 7.57, b grad -0.24\n",
      "Epoch 205, cost 23.8, m grad -8.28, b grad -0.12\n",
      "Epoch 206, cost 23.9, m grad 10.1, b grad -0.2\n",
      "Epoch 207, cost 24, m grad -8.28, b grad -0.12\n",
      "Epoch 208, cost 23.8, m grad 7.57, b grad -0.24\n",
      "Epoch 209, cost 23.9, m grad -8.28, b grad -0.12\n",
      "Epoch 210, cost 23.9, m grad 7.57, b grad -0.24\n",
      "Epoch 211, cost 23.9, m grad -8.28, b grad -0.12\n",
      "Epoch 212, cost 23.9, m grad 7.57, b grad -0.24\n",
      "Epoch 213, cost 23.8, m grad -7.04, b grad -0.16\n",
      "Epoch 214, cost 23.9, m grad 7.57, b grad -0.24\n",
      "Epoch 215, cost 23.8, m grad -8.28, b grad -0.12\n",
      "Epoch 216, cost 23.9, m grad 7.57, b grad -0.24\n",
      "Epoch 217, cost 23.8, m grad -7.04, b grad -0.16\n",
      "Epoch 218, cost 23.9, m grad 7.57, b grad -0.24\n",
      "Epoch 219, cost 23.8, m grad -8.28, b grad -0.12\n",
      "Epoch 220, cost 23.9, m grad 10.1, b grad -0.2\n",
      "Epoch 221, cost 24, m grad -8.28, b grad -0.12\n",
      "Epoch 222, cost 23.8, m grad 7.57, b grad -0.24\n",
      "Epoch 223, cost 23.9, m grad -8.28, b grad -0.12\n",
      "Epoch 224, cost 23.8, m grad 7.57, b grad -0.24\n",
      "Epoch 225, cost 23.9, m grad -8.28, b grad -0.12\n",
      "Epoch 226, cost 23.9, m grad 7.57, b grad -0.24\n",
      "Epoch 227, cost 23.8, m grad -7.04, b grad -0.16\n",
      "Epoch 228, cost 23.9, m grad 7.57, b grad -0.24\n",
      "Epoch 229, cost 23.8, m grad -8.28, b grad -0.12\n",
      "Epoch 230, cost 23.9, m grad 7.57, b grad -0.24\n",
      "Epoch 231, cost 23.8, m grad -7.04, b grad -0.16\n",
      "Epoch 232, cost 23.9, m grad 7.57, b grad -0.24\n",
      "Epoch 233, cost 23.8, m grad -8.28, b grad -0.12\n",
      "Epoch 234, cost 23.9, m grad 10.1, b grad -0.2\n",
      "Epoch 235, cost 24, m grad -8.28, b grad -0.12\n",
      "Epoch 236, cost 23.8, m grad 7.57, b grad -0.24\n",
      "Epoch 237, cost 23.9, m grad -8.28, b grad -0.12\n",
      "Epoch 238, cost 23.8, m grad 7.57, b grad -0.24\n",
      "Epoch 239, cost 23.9, m grad -8.28, b grad -0.12\n",
      "Epoch 240, cost 23.9, m grad 7.57, b grad -0.24\n",
      "Epoch 241, cost 23.8, m grad -8.28, b grad -0.12\n",
      "Epoch 242, cost 23.9, m grad 10.1, b grad -0.2\n",
      "Epoch 243, cost 24, m grad -8.28, b grad -0.12\n",
      "Epoch 244, cost 23.8, m grad 7.57, b grad -0.24\n",
      "Epoch 245, cost 23.9, m grad -8.28, b grad -0.12\n",
      "Epoch 246, cost 23.8, m grad 7.57, b grad -0.24\n",
      "Epoch 247, cost 23.8, m grad -8.28, b grad -0.12\n",
      "Epoch 248, cost 23.9, m grad 7.57, b grad -0.24\n",
      "Epoch 249, cost 23.8, m grad -7.04, b grad -0.16\n",
      "Epoch 250, cost 23.9, m grad 7.57, b grad -0.24\n",
      "Epoch 251, cost 23.8, m grad -8.28, b grad -0.12\n",
      "Epoch 252, cost 23.9, m grad 10.1, b grad -0.2\n",
      "Epoch 253, cost 24, m grad -8.28, b grad -0.12\n",
      "Epoch 254, cost 23.8, m grad 7.57, b grad -0.24\n",
      "Epoch 255, cost 23.9, m grad -8.28, b grad -0.12\n",
      "Epoch 256, cost 23.8, m grad 7.57, b grad -0.24\n",
      "Epoch 257, cost 23.9, m grad -8.28, b grad -0.12\n",
      "Epoch 258, cost 23.9, m grad 7.57, b grad -0.24\n",
      "Epoch 259, cost 23.8, m grad -8.28, b grad -0.12\n",
      "Epoch 260, cost 23.9, m grad 10.1, b grad -0.2\n",
      "Epoch 261, cost 24, m grad -8.28, b grad -0.12\n",
      "Epoch 262, cost 23.8, m grad 7.57, b grad -0.24\n",
      "Epoch 263, cost 23.9, m grad -8.28, b grad -0.12\n",
      "Epoch 264, cost 23.8, m grad 7.57, b grad -0.24\n",
      "Epoch 265, cost 23.8, m grad -8.28, b grad -0.12\n",
      "Epoch 266, cost 23.9, m grad 7.57, b grad -0.24\n",
      "Epoch 267, cost 23.8, m grad -8.28, b grad -0.12\n",
      "Epoch 268, cost 24, m grad 10.1, b grad -0.2\n",
      "Epoch 269, cost 23.9, m grad -8.28, b grad -0.12\n",
      "Epoch 270, cost 23.8, m grad 7.57, b grad -0.24\n",
      "Epoch 271, cost 23.9, m grad -8.28, b grad -0.12\n",
      "Epoch 272, cost 23.9, m grad 7.57, b grad -0.24\n",
      "Epoch 273, cost 23.8, m grad -8.28, b grad -0.12\n",
      "Epoch 274, cost 23.9, m grad 10.1, b grad -0.2\n",
      "Epoch 275, cost 24, m grad -8.28, b grad -0.12\n",
      "Epoch 276, cost 23.8, m grad 7.57, b grad -0.24\n",
      "Epoch 277, cost 23.9, m grad -8.28, b grad -0.12\n",
      "Epoch 278, cost 23.8, m grad 7.57, b grad -0.24\n",
      "Epoch 279, cost 23.8, m grad -8.28, b grad -0.12\n",
      "Epoch 280, cost 23.9, m grad 7.57, b grad -0.24\n",
      "Epoch 281, cost 23.8, m grad -8.28, b grad -0.12\n",
      "Epoch 282, cost 23.9, m grad 10.1, b grad -0.2\n",
      "Epoch 283, cost 23.9, m grad -8.28, b grad -0.12\n",
      "Epoch 284, cost 23.8, m grad 7.57, b grad -0.24\n",
      "Epoch 285, cost 23.9, m grad -8.28, b grad -0.12\n",
      "Epoch 286, cost 23.8, m grad 7.57, b grad -0.24\n",
      "Epoch 287, cost 23.8, m grad -8.28, b grad -0.12\n",
      "Epoch 288, cost 23.9, m grad 10.1, b grad -0.2\n",
      "Epoch 289, cost 24, m grad -8.28, b grad -0.12\n",
      "Epoch 290, cost 23.8, m grad 7.57, b grad -0.24\n",
      "Epoch 291, cost 23.9, m grad -8.28, b grad -0.12\n",
      "Epoch 292, cost 23.8, m grad 7.57, b grad -0.24\n",
      "Epoch 293, cost 23.9, m grad -8.28, b grad -0.12\n",
      "Epoch 294, cost 23.9, m grad 7.57, b grad -0.24\n",
      "Epoch 295, cost 23.8, m grad -8.28, b grad -0.12\n",
      "Epoch 296, cost 23.9, m grad 10.1, b grad -0.2\n",
      "Epoch 297, cost 24, m grad -8.28, b grad -0.12\n",
      "Epoch 298, cost 23.8, m grad 7.57, b grad -0.24\n",
      "Epoch 299, cost 23.9, m grad -8.28, b grad -0.12\n",
      "Epoch 300, cost 23.8, m grad 7.57, b grad -0.24\n",
      "Epoch 301, cost 23.8, m grad -8.28, b grad -0.12\n",
      "Epoch 302, cost 23.9, m grad 10.1, b grad -0.2\n",
      "Epoch 303, cost 24, m grad -8.28, b grad -0.12\n",
      "Epoch 304, cost 23.7, m grad 7.57, b grad -0.24\n",
      "Epoch 305, cost 23.9, m grad -8.28, b grad -0.12\n",
      "Epoch 306, cost 23.8, m grad 7.57, b grad -0.24\n",
      "Epoch 307, cost 23.9, m grad -8.28, b grad -0.12\n",
      "Epoch 308, cost 23.8, m grad 7.57, b grad -0.24\n",
      "Epoch 309, cost 23.8, m grad -8.28, b grad -0.12\n",
      "Epoch 310, cost 23.9, m grad 10.1, b grad -0.2\n",
      "Epoch 311, cost 24, m grad -8.28, b grad -0.12\n",
      "Epoch 312, cost 23.8, m grad 7.57, b grad -0.24\n",
      "Epoch 313, cost 23.9, m grad -8.28, b grad -0.12\n",
      "Epoch 314, cost 23.8, m grad 7.57, b grad -0.24\n",
      "Epoch 315, cost 23.8, m grad -8.28, b grad -0.12\n",
      "Epoch 316, cost 23.9, m grad 7.57, b grad -0.24\n",
      "Epoch 317, cost 23.8, m grad -8.28, b grad -0.12\n",
      "Epoch 318, cost 23.9, m grad 10.1, b grad -0.2\n",
      "Epoch 319, cost 23.9, m grad -8.28, b grad -0.12\n",
      "Epoch 320, cost 23.8, m grad 7.57, b grad -0.24\n",
      "Epoch 321, cost 23.9, m grad -8.28, b grad -0.12\n",
      "Epoch 322, cost 23.8, m grad 7.57, b grad -0.24\n",
      "Epoch 323, cost 23.8, m grad -8.28, b grad -0.12\n",
      "Epoch 324, cost 23.9, m grad 10.1, b grad -0.2\n",
      "Epoch 325, cost 24, m grad -8.28, b grad -0.12\n",
      "Epoch 326, cost 23.7, m grad 7.57, b grad -0.24\n",
      "Epoch 327, cost 23.9, m grad -8.28, b grad -0.12\n",
      "Epoch 328, cost 23.8, m grad 7.57, b grad -0.24\n",
      "Epoch 329, cost 23.9, m grad -8.28, b grad -0.12\n",
      "Epoch 330, cost 23.8, m grad 7.57, b grad -0.24\n",
      "Epoch 331, cost 23.8, m grad -8.28, b grad -0.12\n",
      "Epoch 332, cost 23.9, m grad 10.1, b grad -0.2\n",
      "Epoch 333, cost 23.9, m grad -8.28, b grad -0.12\n",
      "Epoch 334, cost 23.8, m grad 7.57, b grad -0.24\n",
      "Epoch 335, cost 23.9, m grad -8.28, b grad -0.12\n",
      "Epoch 336, cost 23.8, m grad 7.57, b grad -0.24\n",
      "Epoch 337, cost 23.8, m grad -8.28, b grad -0.12\n",
      "Epoch 338, cost 23.9, m grad 10.1, b grad -0.2\n",
      "Epoch 339, cost 24, m grad -8.28, b grad -0.12\n",
      "Epoch 340, cost 23.7, m grad 7.57, b grad -0.24\n",
      "Epoch 341, cost 23.9, m grad -8.28, b grad -0.12\n",
      "Epoch 342, cost 23.8, m grad 7.57, b grad -0.24\n",
      "Epoch 343, cost 23.9, m grad -8.28, b grad -0.12\n",
      "Epoch 344, cost 23.8, m grad 7.57, b grad -0.24\n",
      "Epoch 345, cost 23.8, m grad -8.28, b grad -0.12\n",
      "Epoch 346, cost 23.9, m grad 10.1, b grad -0.2\n",
      "Epoch 347, cost 24, m grad -8.28, b grad -0.12\n",
      "Epoch 348, cost 23.7, m grad 7.57, b grad -0.24\n",
      "Epoch 349, cost 23.9, m grad -8.28, b grad -0.12\n",
      "Epoch 350, cost 23.8, m grad 7.57, b grad -0.24\n",
      "Epoch 351, cost 23.8, m grad -8.28, b grad -0.12\n",
      "Epoch 352, cost 23.8, m grad 7.57, b grad -0.24\n",
      "Epoch 353, cost 23.8, m grad -8.28, b grad -0.12\n",
      "Epoch 354, cost 23.9, m grad 10.1, b grad -0.2\n",
      "Epoch 355, cost 23.9, m grad -8.28, b grad -0.12\n",
      "Epoch 356, cost 23.8, m grad 7.57, b grad -0.24\n",
      "Epoch 357, cost 23.9, m grad -8.28, b grad -0.12\n",
      "Epoch 358, cost 23.8, m grad 7.57, b grad -0.24\n",
      "Epoch 359, cost 23.8, m grad -8.28, b grad -0.12\n",
      "Epoch 360, cost 23.9, m grad 10.1, b grad -0.2\n",
      "Epoch 361, cost 24, m grad -8.28, b grad -0.12\n",
      "Epoch 362, cost 23.7, m grad 7.57, b grad -0.24\n",
      "Epoch 363, cost 23.9, m grad -8.28, b grad -0.12\n",
      "Epoch 364, cost 23.8, m grad 7.57, b grad -0.24\n",
      "Epoch 365, cost 23.9, m grad -8.28, b grad -0.12\n",
      "Epoch 366, cost 23.8, m grad 7.57, b grad -0.24\n",
      "Epoch 367, cost 23.8, m grad -8.28, b grad -0.12\n",
      "Epoch 368, cost 23.9, m grad 10.1, b grad -0.2\n",
      "Epoch 369, cost 23.9, m grad -8.28, b grad -0.12\n",
      "Epoch 370, cost 23.7, m grad 7.57, b grad -0.24\n",
      "Epoch 371, cost 23.9, m grad -8.28, b grad -0.12\n",
      "Epoch 372, cost 23.8, m grad 7.57, b grad -0.24\n",
      "Epoch 373, cost 23.8, m grad -8.28, b grad -0.12\n",
      "Epoch 374, cost 23.8, m grad 10.1, b grad -0.2\n",
      "Epoch 375, cost 24, m grad -8.28, b grad -0.12\n",
      "Epoch 376, cost 23.7, m grad 7.57, b grad -0.24\n",
      "Epoch 377, cost 23.9, m grad -8.28, b grad -0.12\n",
      "Epoch 378, cost 23.8, m grad 7.57, b grad -0.24\n",
      "Epoch 379, cost 23.9, m grad -8.28, b grad -0.12\n",
      "Epoch 380, cost 23.8, m grad 7.57, b grad -0.24\n",
      "Epoch 381, cost 23.8, m grad -8.28, b grad -0.12\n",
      "Epoch 382, cost 23.9, m grad 10.1, b grad -0.2\n",
      "Epoch 383, cost 24, m grad -8.28, b grad -0.12\n",
      "Epoch 384, cost 23.7, m grad 7.57, b grad -0.24\n",
      "Epoch 385, cost 23.9, m grad -8.28, b grad -0.12\n",
      "Epoch 386, cost 23.8, m grad 7.57, b grad -0.24\n",
      "Epoch 387, cost 23.8, m grad -8.28, b grad -0.12\n",
      "Epoch 388, cost 23.8, m grad 7.57, b grad -0.24\n",
      "Epoch 389, cost 23.8, m grad -8.28, b grad -0.12\n",
      "Epoch 390, cost 23.9, m grad 10.1, b grad -0.2\n",
      "Epoch 391, cost 23.9, m grad -8.28, b grad -0.12\n",
      "Epoch 392, cost 23.7, m grad 7.57, b grad -0.24\n",
      "Epoch 393, cost 23.9, m grad -8.28, b grad -0.12\n",
      "Epoch 394, cost 23.8, m grad 7.57, b grad -0.24\n",
      "Epoch 395, cost 23.8, m grad -8.28, b grad -0.12\n",
      "Epoch 396, cost 23.8, m grad 10.1, b grad -0.2\n",
      "Epoch 397, cost 24, m grad -8.28, b grad -0.12\n",
      "Epoch 398, cost 23.7, m grad 7.57, b grad -0.24\n",
      "Epoch 399, cost 23.9, m grad -8.28, b grad -0.12\n",
      "Epoch 400, cost 23.7, m grad 7.57, b grad -0.24\n",
      "Epoch 401, cost 23.8, m grad -8.28, b grad -0.12\n",
      "Epoch 402, cost 23.8, m grad 7.57, b grad -0.24\n",
      "Epoch 403, cost 23.8, m grad -8.28, b grad -0.12\n",
      "Epoch 404, cost 23.9, m grad 10.1, b grad -0.2\n",
      "Epoch 405, cost 23.9, m grad -8.28, b grad -0.12\n",
      "Epoch 406, cost 23.7, m grad 7.57, b grad -0.24\n",
      "Epoch 407, cost 23.9, m grad -8.28, b grad -0.12\n",
      "Epoch 408, cost 23.8, m grad 7.57, b grad -0.24\n",
      "Epoch 409, cost 23.8, m grad -8.28, b grad -0.12\n",
      "Epoch 410, cost 23.8, m grad 10.1, b grad -0.2\n",
      "Epoch 411, cost 24, m grad -8.28, b grad -0.12\n",
      "Epoch 412, cost 23.7, m grad 7.57, b grad -0.24\n",
      "Epoch 413, cost 23.9, m grad -8.28, b grad -0.12\n",
      "Epoch 414, cost 23.7, m grad 7.57, b grad -0.24\n",
      "Epoch 415, cost 23.9, m grad -8.28, b grad -0.12\n",
      "Epoch 416, cost 23.8, m grad 7.57, b grad -0.24\n",
      "Epoch 417, cost 23.8, m grad -8.28, b grad -0.12\n",
      "Epoch 418, cost 23.8, m grad 10.1, b grad -0.2\n",
      "Epoch 419, cost 24, m grad -8.28, b grad -0.12\n",
      "Epoch 420, cost 23.7, m grad 7.57, b grad -0.24\n",
      "Epoch 421, cost 23.9, m grad -8.28, b grad -0.12\n",
      "Epoch 422, cost 23.7, m grad 7.57, b grad -0.24\n",
      "Epoch 423, cost 23.8, m grad -8.28, b grad -0.12\n",
      "Epoch 424, cost 23.8, m grad 10.1, b grad -0.2\n",
      "Epoch 425, cost 24, m grad -8.28, b grad -0.12\n",
      "Epoch 426, cost 23.7, m grad 4.21, b grad -0.28\n",
      "Epoch 427, cost 23.7, m grad -3.45, b grad -0.2\n",
      "Epoch 428, cost 23.6, m grad 4.21, b grad -0.28\n",
      "Epoch 429, cost 23.7, m grad -8.28, b grad -0.12\n",
      "Epoch 430, cost 23.9, m grad 10.1, b grad -0.2\n",
      "Epoch 431, cost 23.9, m grad -8.28, b grad -0.12\n",
      "Epoch 432, cost 23.8, m grad 7.57, b grad -0.24\n",
      "Epoch 433, cost 23.8, m grad -8.28, b grad -0.12\n",
      "Epoch 434, cost 23.8, m grad 10.1, b grad -0.2\n",
      "Epoch 435, cost 24, m grad -8.28, b grad -0.12\n",
      "Epoch 436, cost 23.7, m grad 7.57, b grad -0.24\n",
      "Epoch 437, cost 23.9, m grad -8.28, b grad -0.12\n",
      "Epoch 438, cost 23.7, m grad 7.57, b grad -0.24\n",
      "Epoch 439, cost 23.8, m grad -8.28, b grad -0.12\n",
      "Epoch 440, cost 23.8, m grad 7.57, b grad -0.24\n",
      "Epoch 441, cost 23.8, m grad -8.28, b grad -0.12\n",
      "Epoch 442, cost 23.9, m grad 10.1, b grad -0.2\n",
      "Epoch 443, cost 23.9, m grad -8.28, b grad -0.12\n",
      "Epoch 444, cost 23.7, m grad 7.57, b grad -0.24\n",
      "Epoch 445, cost 23.9, m grad -8.28, b grad -0.12\n",
      "Epoch 446, cost 23.7, m grad 7.57, b grad -0.24\n",
      "Epoch 447, cost 23.8, m grad -8.28, b grad -0.12\n",
      "Epoch 448, cost 23.8, m grad 10.1, b grad -0.2\n",
      "Epoch 449, cost 24, m grad -8.28, b grad -0.12\n",
      "Epoch 450, cost 23.7, m grad 7.57, b grad -0.24\n",
      "Epoch 451, cost 23.9, m grad -8.28, b grad -0.12\n",
      "Epoch 452, cost 23.7, m grad 7.57, b grad -0.24\n",
      "Epoch 453, cost 23.9, m grad -8.28, b grad -0.12\n",
      "Epoch 454, cost 23.8, m grad 7.57, b grad -0.24\n",
      "Epoch 455, cost 23.8, m grad -8.28, b grad -0.12\n",
      "Epoch 456, cost 23.8, m grad 10.1, b grad -0.2\n",
      "Epoch 457, cost 23.9, m grad -8.28, b grad -0.12\n",
      "Epoch 458, cost 23.7, m grad 7.57, b grad -0.24\n",
      "Epoch 459, cost 23.9, m grad -8.28, b grad -0.12\n",
      "Epoch 460, cost 23.7, m grad 7.57, b grad -0.24\n",
      "Epoch 461, cost 23.8, m grad -8.28, b grad -0.12\n",
      "Epoch 462, cost 23.8, m grad 10.1, b grad -0.2\n",
      "Epoch 463, cost 24, m grad -8.28, b grad -0.12\n",
      "Epoch 464, cost 23.6, m grad 7.57, b grad -0.24\n",
      "Epoch 465, cost 23.9, m grad -8.28, b grad -0.12\n",
      "Epoch 466, cost 23.7, m grad 7.57, b grad -0.24\n",
      "Epoch 467, cost 23.9, m grad -8.28, b grad -0.12\n",
      "Epoch 468, cost 23.7, m grad 7.57, b grad -0.24\n",
      "Epoch 469, cost 23.8, m grad -8.28, b grad -0.12\n",
      "Epoch 470, cost 23.8, m grad 10.1, b grad -0.2\n",
      "Epoch 471, cost 24, m grad -8.28, b grad -0.12\n",
      "Epoch 472, cost 23.7, m grad 7.57, b grad -0.24\n",
      "Epoch 473, cost 23.9, m grad -8.28, b grad -0.12\n",
      "Epoch 474, cost 23.7, m grad 7.57, b grad -0.24\n",
      "Epoch 475, cost 23.8, m grad -8.28, b grad -0.12\n",
      "Epoch 476, cost 23.8, m grad 10.1, b grad -0.2\n",
      "Epoch 477, cost 24, m grad -8.28, b grad -0.12\n",
      "Epoch 478, cost 23.6, m grad 4.21, b grad -0.28\n",
      "Epoch 479, cost 23.7, m grad -4.69, b grad -0.16\n",
      "Epoch 480, cost 23.7, m grad 7.57, b grad -0.24\n",
      "Epoch 481, cost 23.9, m grad -8.28, b grad -0.12\n",
      "Epoch 482, cost 23.7, m grad 7.57, b grad -0.24\n",
      "Epoch 483, cost 23.8, m grad -8.28, b grad -0.12\n",
      "Epoch 484, cost 23.8, m grad 10.1, b grad -0.2\n",
      "Epoch 485, cost 24, m grad -8.28, b grad -0.12\n",
      "Epoch 486, cost 23.6, m grad 4.21, b grad -0.28\n",
      "Epoch 487, cost 23.7, m grad -4.69, b grad -0.16\n",
      "Epoch 488, cost 23.7, m grad 7.57, b grad -0.24\n",
      "Epoch 489, cost 23.9, m grad -8.28, b grad -0.12\n",
      "Epoch 490, cost 23.7, m grad 7.57, b grad -0.24\n",
      "Epoch 491, cost 23.8, m grad -8.28, b grad -0.12\n",
      "Epoch 492, cost 23.8, m grad 10.1, b grad -0.2\n",
      "Epoch 493, cost 24, m grad -8.28, b grad -0.12\n",
      "Epoch 494, cost 23.6, m grad 7.57, b grad -0.24\n",
      "Epoch 495, cost 23.9, m grad -8.28, b grad -0.12\n",
      "Epoch 496, cost 23.7, m grad 7.57, b grad -0.24\n",
      "Epoch 497, cost 23.9, m grad -8.28, b grad -0.12\n",
      "Epoch 498, cost 23.7, m grad 7.57, b grad -0.24\n",
      "Epoch 499, cost 23.8, m grad -8.28, b grad -0.12\n"
     ]
    }
   ],
   "source": [
    "epochs = 500\n",
    "for epoch in range(epochs):\n",
    "    \n",
    "    optimiser.zero_grad() # Reset gradients to zero; else they accumulate\n",
    "    \n",
    "    yhat = regression(x_tensor, m, b) # Step 2\n",
    "    cost = MAE(y_tensor,yhat) # Step 3\n",
    "    \n",
    "    cost.backward() # Step 4\n",
    "    optimiser.step() # Step 5\n",
    "    \n",
    "    print('Epoch {}, cost {}, m grad {}, b grad {}'.format(epoch, '%.3g' % cost.item(), '%.3g' % m.grad.item(), '%.3g' % b.grad.item()))"
   ]
  },
  {
   "cell_type": "code",
   "execution_count": 28,
   "metadata": {},
   "outputs": [
    {
     "data": {
      "image/png": "[encoded data removed]",
      "text/plain": [
       "<Figure size 640x480 with 1 Axes>"
      ]
     },
     "metadata": {},
     "output_type": "display_data"
    }
   ],
   "source": [
    "plot(x_tensor,y_tensor,m,b)"
   ]
  },
  {
   "cell_type": "code",
   "execution_count": 29,
   "metadata": {},
   "outputs": [
    {
     "data": {
      "text/plain": [
       "tensor([5.1917], requires_grad=True)"
      ]
     },
     "execution_count": 29,
     "metadata": {},
     "output_type": "execute_result"
    }
   ],
   "source": [
    "m"
   ]
  },
  {
   "cell_type": "code",
   "execution_count": 30,
   "metadata": {},
   "outputs": [
    {
     "data": {
      "text/plain": [
       "tensor([15.9284], requires_grad=True)"
      ]
     },
     "execution_count": 30,
     "metadata": {},
     "output_type": "execute_result"
    }
   ],
   "source": [
    "b"
   ]
  },
  {
   "cell_type": "markdown",
   "metadata": {},
   "source": [
    "The method to evaluate the accuracy of the line of best fit is by calcuting residuals. First we will calculate the residuals for the method used for linear algebra, then calculus.\n",
    "\n",
    "Residuals are Residual = actual y value − predicted y value. However in this case the actual y value will be the y_tensor, and the predicted y_value will be the result y_value determined by the parameters that we predicted for each method. It is basically taking the mean absolute error."
   ]
  },
  {
   "cell_type": "code",
   "execution_count": 31,
   "metadata": {},
   "outputs": [
    {
     "name": "stdout",
     "output_type": "stream",
     "text": [
      "tensor(23.6199)\n"
     ]
    }
   ],
   "source": [
    "#residuals for the parameters predicted using linear algebra\n",
    "actual_y = y_tensor\n",
    "\n",
    "#using the m and b values that we calculated using linear algebra to create the predicted y tensor\n",
    "lin_m = float(parameters[0])\n",
    "lin_b = float(parameters[1])\n",
    "\n",
    "predicted_lin_y = lin_m * x_tensor + lin_b\n",
    "#we can use the MAE function we created previously\n",
    "lin_residuals = MAE(predicted_lin_y,actual_y)\n",
    "print(lin_residuals)"
   ]
  },
  {
   "cell_type": "code",
   "execution_count": 32,
   "metadata": {},
   "outputs": [
    {
     "name": "stdout",
     "output_type": "stream",
     "text": [
      "tensor(23.7924)\n"
     ]
    }
   ],
   "source": [
    "#residuals for the parameters predicted using calculus\n",
    "calc_m = float(m)\n",
    "calc_b = float(b)\n",
    "\n",
    "predicted_calc_y = calc_m * x_tensor + calc_b\n",
    "calc_residuals = MAE(predicted_calc_y, actual_y)\n",
    "print(calc_residuals)\n"
   ]
  },
  {
   "cell_type": "markdown",
   "metadata": {},
   "source": [
    "Limitations or extentions of the exploration.\n",
    "- The number of data points (does the number of data points impact the accuracy of predicting the parameters)\n",
    "- The starting point values for the parameters in machine learning. How does picking a certain value for the parameters impact the rate at which or ability to learn. Is the cost function still able to reach a global mimima?"
   ]
  }
 ],
 "metadata": {
  "kernelspec": {
   "display_name": "base",
   "language": "python",
   "name": "python3"
  },
  "language_info": {
   "codemirror_mode": {
    "name": "ipython",
    "version": 3
   },
   "file_extension": ".py",
   "mimetype": "text/x-python",
   "name": "python",
   "nbconvert_exporter": "python",
   "pygments_lexer": "ipython3",
   "version": "3.11.5"
  }
 },
 "nbformat": 4,
 "nbformat_minor": 2
}
